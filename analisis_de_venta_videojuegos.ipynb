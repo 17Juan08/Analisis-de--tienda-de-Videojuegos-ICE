{
 "cells": [
  {
   "cell_type": "markdown",
   "metadata": {
    "tags": [
     "e5c1f0c2-db9f-43a0-99b9-4875c52427e8"
    ]
   },
   "source": [
    "#  Análisis de  tienda de Videojuegos ICE"
   ]
  },
  {
   "cell_type": "markdown",
   "metadata": {},
   "source": [
    "***Descripción del proyecto***\n",
    "\n",
    "Trabajas para la tienda online Ice que vende videojuegos por todo el mundo. Las reseñas de usuarios y expertos, los géneros, las plataformas (por ejemplo, Xbox o PlayStation) y los datos históricos sobre las ventas de juegos están disponibles en fuentes abiertas. Tienes que identificar patrones que determinen si un juego tiene éxito o no. Esto te permitirá detectar proyectos prometedores y planificar campañas publicitarias.\n",
    "\n",
    "Delante de ti hay datos que se remontan a 2016. Imaginemos que es diciembre de 2016 y estás planeando una campaña para 2017.\n",
    "\n",
    "Lo importante es adquirir experiencia de trabajo con datos. Realmente no importa si estás pronosticando las ventas de 2017 en función de los datos de 2016 o las ventas de 2027 en función de los datos de 2026.\n",
    "\n",
    "El dataset contiene una columna \"rating\" que almacena la clasificación ESRB de cada juego. El Entertainment Software Rating Board (la Junta de clasificación de software de entretenimiento) evalúa el contenido de un juego y asigna una clasificación de edad como Adolescente o Adulto.\n",
    "\n",
    "*Descripción de datos*\n",
    "\n",
    "— Name (Nombre)\n",
    "\n",
    "— Platform (Plataforma)\n",
    "\n",
    "— Year_of_Release (Año de lanzamiento)\n",
    "\n",
    "— Genre (Género) \n",
    "\n",
    "— NA_sales (ventas en Norteamérica en millones de dólares estadounidenses) \n",
    "\n",
    "— EU_sales (ventas en Europa en millones de dólares estadounidenses) \n",
    "\n",
    "— JP_sales (ventas en Japón en millones de dólares estadounidenses) \n",
    "\n",
    "— Other_sales (ventas en otros países en millones de dólares estadounidenses) \n",
    "\n",
    "— Critic_Score (máximo de 100) \n",
    "\n",
    "— User_Score (máximo de 10) \n",
    "\n",
    "— Rating (ESRB)\n"
   ]
  },
  {
   "cell_type": "markdown",
   "metadata": {},
   "source": [
    "***Librerias necesarias***"
   ]
  },
  {
   "cell_type": "code",
   "execution_count": 1,
   "metadata": {
    "trusted": false
   },
   "outputs": [],
   "source": [
    "import pandas as pd\n",
    "import numpy as np\n",
    "import matplotlib.pyplot as plt\n",
    "import seaborn as sns\n",
    "from scipy import  stats as st\n"
   ]
  },
  {
   "cell_type": "markdown",
   "metadata": {},
   "source": [
    "# 1. cargar archivo de datos y estudia la información general "
   ]
  },
  {
   "cell_type": "code",
   "execution_count": 2,
   "metadata": {
    "trusted": false
   },
   "outputs": [
    {
     "data": {
      "text/html": [
       "<div>\n",
       "<style scoped>\n",
       "    .dataframe tbody tr th:only-of-type {\n",
       "        vertical-align: middle;\n",
       "    }\n",
       "\n",
       "    .dataframe tbody tr th {\n",
       "        vertical-align: top;\n",
       "    }\n",
       "\n",
       "    .dataframe thead th {\n",
       "        text-align: right;\n",
       "    }\n",
       "</style>\n",
       "<table border=\"1\" class=\"dataframe\">\n",
       "  <thead>\n",
       "    <tr style=\"text-align: right;\">\n",
       "      <th></th>\n",
       "      <th>Name</th>\n",
       "      <th>Platform</th>\n",
       "      <th>Year_of_Release</th>\n",
       "      <th>Genre</th>\n",
       "      <th>NA_sales</th>\n",
       "      <th>EU_sales</th>\n",
       "      <th>JP_sales</th>\n",
       "      <th>Other_sales</th>\n",
       "      <th>Critic_Score</th>\n",
       "      <th>User_Score</th>\n",
       "      <th>Rating</th>\n",
       "    </tr>\n",
       "  </thead>\n",
       "  <tbody>\n",
       "    <tr>\n",
       "      <th>0</th>\n",
       "      <td>Wii Sports</td>\n",
       "      <td>Wii</td>\n",
       "      <td>2006.0</td>\n",
       "      <td>Sports</td>\n",
       "      <td>41.36</td>\n",
       "      <td>28.96</td>\n",
       "      <td>3.77</td>\n",
       "      <td>8.45</td>\n",
       "      <td>76.0</td>\n",
       "      <td>8</td>\n",
       "      <td>E</td>\n",
       "    </tr>\n",
       "    <tr>\n",
       "      <th>1</th>\n",
       "      <td>Super Mario Bros.</td>\n",
       "      <td>NES</td>\n",
       "      <td>1985.0</td>\n",
       "      <td>Platform</td>\n",
       "      <td>29.08</td>\n",
       "      <td>3.58</td>\n",
       "      <td>6.81</td>\n",
       "      <td>0.77</td>\n",
       "      <td>NaN</td>\n",
       "      <td>NaN</td>\n",
       "      <td>NaN</td>\n",
       "    </tr>\n",
       "    <tr>\n",
       "      <th>2</th>\n",
       "      <td>Mario Kart Wii</td>\n",
       "      <td>Wii</td>\n",
       "      <td>2008.0</td>\n",
       "      <td>Racing</td>\n",
       "      <td>15.68</td>\n",
       "      <td>12.76</td>\n",
       "      <td>3.79</td>\n",
       "      <td>3.29</td>\n",
       "      <td>82.0</td>\n",
       "      <td>8.3</td>\n",
       "      <td>E</td>\n",
       "    </tr>\n",
       "    <tr>\n",
       "      <th>3</th>\n",
       "      <td>Wii Sports Resort</td>\n",
       "      <td>Wii</td>\n",
       "      <td>2009.0</td>\n",
       "      <td>Sports</td>\n",
       "      <td>15.61</td>\n",
       "      <td>10.93</td>\n",
       "      <td>3.28</td>\n",
       "      <td>2.95</td>\n",
       "      <td>80.0</td>\n",
       "      <td>8</td>\n",
       "      <td>E</td>\n",
       "    </tr>\n",
       "    <tr>\n",
       "      <th>4</th>\n",
       "      <td>Pokemon Red/Pokemon Blue</td>\n",
       "      <td>GB</td>\n",
       "      <td>1996.0</td>\n",
       "      <td>Role-Playing</td>\n",
       "      <td>11.27</td>\n",
       "      <td>8.89</td>\n",
       "      <td>10.22</td>\n",
       "      <td>1.00</td>\n",
       "      <td>NaN</td>\n",
       "      <td>NaN</td>\n",
       "      <td>NaN</td>\n",
       "    </tr>\n",
       "  </tbody>\n",
       "</table>\n",
       "</div>"
      ],
      "text/plain": [
       "                       Name Platform  Year_of_Release         Genre  NA_sales  \\\n",
       "0                Wii Sports      Wii           2006.0        Sports     41.36   \n",
       "1         Super Mario Bros.      NES           1985.0      Platform     29.08   \n",
       "2            Mario Kart Wii      Wii           2008.0        Racing     15.68   \n",
       "3         Wii Sports Resort      Wii           2009.0        Sports     15.61   \n",
       "4  Pokemon Red/Pokemon Blue       GB           1996.0  Role-Playing     11.27   \n",
       "\n",
       "   EU_sales  JP_sales  Other_sales  Critic_Score User_Score Rating  \n",
       "0     28.96      3.77         8.45          76.0          8      E  \n",
       "1      3.58      6.81         0.77           NaN        NaN    NaN  \n",
       "2     12.76      3.79         3.29          82.0        8.3      E  \n",
       "3     10.93      3.28         2.95          80.0          8      E  \n",
       "4      8.89     10.22         1.00           NaN        NaN    NaN  "
      ]
     },
     "execution_count": 2,
     "metadata": {},
     "output_type": "execute_result"
    }
   ],
   "source": [
    "# cargar datos \n",
    "\n",
    "df= pd.read_csv('/datasets/games.csv', sep = ',')\n",
    "df.head()\n"
   ]
  },
  {
   "cell_type": "markdown",
   "metadata": {},
   "source": [
    "# 2. Prepara los datos"
   ]
  },
  {
   "cell_type": "code",
   "execution_count": 3,
   "metadata": {
    "trusted": false
   },
   "outputs": [
    {
     "data": {
      "text/html": [
       "<div>\n",
       "<style scoped>\n",
       "    .dataframe tbody tr th:only-of-type {\n",
       "        vertical-align: middle;\n",
       "    }\n",
       "\n",
       "    .dataframe tbody tr th {\n",
       "        vertical-align: top;\n",
       "    }\n",
       "\n",
       "    .dataframe thead th {\n",
       "        text-align: right;\n",
       "    }\n",
       "</style>\n",
       "<table border=\"1\" class=\"dataframe\">\n",
       "  <thead>\n",
       "    <tr style=\"text-align: right;\">\n",
       "      <th></th>\n",
       "      <th>name</th>\n",
       "      <th>platform</th>\n",
       "      <th>year_of_release</th>\n",
       "      <th>genre</th>\n",
       "      <th>na_sales</th>\n",
       "      <th>eu_sales</th>\n",
       "      <th>jp_sales</th>\n",
       "      <th>other_sales</th>\n",
       "      <th>critic_score</th>\n",
       "      <th>user_score</th>\n",
       "      <th>rating</th>\n",
       "    </tr>\n",
       "  </thead>\n",
       "  <tbody>\n",
       "    <tr>\n",
       "      <th>0</th>\n",
       "      <td>Wii Sports</td>\n",
       "      <td>Wii</td>\n",
       "      <td>2006.0</td>\n",
       "      <td>Sports</td>\n",
       "      <td>41.36</td>\n",
       "      <td>28.96</td>\n",
       "      <td>3.77</td>\n",
       "      <td>8.45</td>\n",
       "      <td>76.0</td>\n",
       "      <td>8</td>\n",
       "      <td>E</td>\n",
       "    </tr>\n",
       "    <tr>\n",
       "      <th>1</th>\n",
       "      <td>Super Mario Bros.</td>\n",
       "      <td>NES</td>\n",
       "      <td>1985.0</td>\n",
       "      <td>Platform</td>\n",
       "      <td>29.08</td>\n",
       "      <td>3.58</td>\n",
       "      <td>6.81</td>\n",
       "      <td>0.77</td>\n",
       "      <td>NaN</td>\n",
       "      <td>NaN</td>\n",
       "      <td>NaN</td>\n",
       "    </tr>\n",
       "    <tr>\n",
       "      <th>2</th>\n",
       "      <td>Mario Kart Wii</td>\n",
       "      <td>Wii</td>\n",
       "      <td>2008.0</td>\n",
       "      <td>Racing</td>\n",
       "      <td>15.68</td>\n",
       "      <td>12.76</td>\n",
       "      <td>3.79</td>\n",
       "      <td>3.29</td>\n",
       "      <td>82.0</td>\n",
       "      <td>8.3</td>\n",
       "      <td>E</td>\n",
       "    </tr>\n",
       "    <tr>\n",
       "      <th>3</th>\n",
       "      <td>Wii Sports Resort</td>\n",
       "      <td>Wii</td>\n",
       "      <td>2009.0</td>\n",
       "      <td>Sports</td>\n",
       "      <td>15.61</td>\n",
       "      <td>10.93</td>\n",
       "      <td>3.28</td>\n",
       "      <td>2.95</td>\n",
       "      <td>80.0</td>\n",
       "      <td>8</td>\n",
       "      <td>E</td>\n",
       "    </tr>\n",
       "    <tr>\n",
       "      <th>4</th>\n",
       "      <td>Pokemon Red/Pokemon Blue</td>\n",
       "      <td>GB</td>\n",
       "      <td>1996.0</td>\n",
       "      <td>Role-Playing</td>\n",
       "      <td>11.27</td>\n",
       "      <td>8.89</td>\n",
       "      <td>10.22</td>\n",
       "      <td>1.00</td>\n",
       "      <td>NaN</td>\n",
       "      <td>NaN</td>\n",
       "      <td>NaN</td>\n",
       "    </tr>\n",
       "  </tbody>\n",
       "</table>\n",
       "</div>"
      ],
      "text/plain": [
       "                       name platform  year_of_release         genre  na_sales  \\\n",
       "0                Wii Sports      Wii           2006.0        Sports     41.36   \n",
       "1         Super Mario Bros.      NES           1985.0      Platform     29.08   \n",
       "2            Mario Kart Wii      Wii           2008.0        Racing     15.68   \n",
       "3         Wii Sports Resort      Wii           2009.0        Sports     15.61   \n",
       "4  Pokemon Red/Pokemon Blue       GB           1996.0  Role-Playing     11.27   \n",
       "\n",
       "   eu_sales  jp_sales  other_sales  critic_score user_score rating  \n",
       "0     28.96      3.77         8.45          76.0          8      E  \n",
       "1      3.58      6.81         0.77           NaN        NaN    NaN  \n",
       "2     12.76      3.79         3.29          82.0        8.3      E  \n",
       "3     10.93      3.28         2.95          80.0          8      E  \n",
       "4      8.89     10.22         1.00           NaN        NaN    NaN  "
      ]
     },
     "execution_count": 3,
     "metadata": {},
     "output_type": "execute_result"
    }
   ],
   "source": [
    "df.columns = (df.columns.str.lower())\n",
    "df.head()"
   ]
  },
  {
   "cell_type": "code",
   "execution_count": 4,
   "metadata": {
    "trusted": false
   },
   "outputs": [
    {
     "name": "stdout",
     "output_type": "stream",
     "text": [
      "<class 'pandas.core.frame.DataFrame'>\n",
      "RangeIndex: 16715 entries, 0 to 16714\n",
      "Data columns (total 11 columns):\n",
      " #   Column           Non-Null Count  Dtype  \n",
      "---  ------           --------------  -----  \n",
      " 0   name             16713 non-null  object \n",
      " 1   platform         16715 non-null  object \n",
      " 2   year_of_release  16446 non-null  float64\n",
      " 3   genre            16713 non-null  object \n",
      " 4   na_sales         16715 non-null  float64\n",
      " 5   eu_sales         16715 non-null  float64\n",
      " 6   jp_sales         16715 non-null  float64\n",
      " 7   other_sales      16715 non-null  float64\n",
      " 8   critic_score     8137 non-null   float64\n",
      " 9   user_score       10014 non-null  object \n",
      " 10  rating           9949 non-null   object \n",
      "dtypes: float64(6), object(5)\n",
      "memory usage: 1.4+ MB\n"
     ]
    }
   ],
   "source": [
    "df.info()"
   ]
  },
  {
   "cell_type": "markdown",
   "metadata": {},
   "source": [
    "La columna 'year_of_release' se convertirá a un valor entero, ya que representa años y no debe contener valores decimales. Por otro lado, la columna 'user_score' se modificará al tipo float, dado que actualmente está almacenada como Object y debe manejarse como un número para facilitar su análisis. Antes de realizar este proceso se  analizaran los valores nulos den cada columna\n",
    "\n",
    "\n",
    "\n",
    "\n",
    "\n",
    "\n",
    "\n"
   ]
  },
  {
   "cell_type": "code",
   "execution_count": 5,
   "metadata": {
    "trusted": false
   },
   "outputs": [
    {
     "name": "stdout",
     "output_type": "stream",
     "text": [
      "name                  2\n",
      "platform              0\n",
      "year_of_release     269\n",
      "genre                 2\n",
      "na_sales              0\n",
      "eu_sales              0\n",
      "jp_sales              0\n",
      "other_sales           0\n",
      "critic_score       8578\n",
      "user_score         6701\n",
      "rating             6766\n",
      "dtype: int64\n",
      "\n",
      "Número de filas duplicadas: 0\n"
     ]
    }
   ],
   "source": [
    "null =  df.isna().sum()\n",
    "print(null)\n",
    "print()\n",
    "duplicados = df.duplicated().sum()\n",
    "print(f\"Número de filas duplicadas: {duplicados}\")"
   ]
  },
  {
   "cell_type": "markdown",
   "metadata": {},
   "source": [
    "Dado que los valores nulos en 'year_of_release' representan solo aproximadamente 1.6% del total de datos, se ha decidido eliminarlos y proceder con la conversión de la columna a entero."
   ]
  },
  {
   "cell_type": "code",
   "execution_count": 6,
   "metadata": {
    "trusted": false
   },
   "outputs": [],
   "source": [
    "df.dropna(subset=['year_of_release'], inplace=True)\n",
    "df['year_of_release'] = df['year_of_release'].astype(int)"
   ]
  },
  {
   "cell_type": "code",
   "execution_count": 7,
   "metadata": {
    "trusted": false
   },
   "outputs": [
    {
     "name": "stdout",
     "output_type": "stream",
     "text": [
      "                                name platform  year_of_release         genre  \\\n",
      "1                  Super Mario Bros.      NES             1985      Platform   \n",
      "4           Pokemon Red/Pokemon Blue       GB             1996  Role-Playing   \n",
      "5                             Tetris       GB             1989        Puzzle   \n",
      "9                          Duck Hunt      NES             1984       Shooter   \n",
      "10                        Nintendogs       DS             2005    Simulation   \n",
      "...                              ...      ...              ...           ...   \n",
      "16710  Samurai Warriors: Sanada Maru      PS3             2016        Action   \n",
      "16711               LMA Manager 2007     X360             2006        Sports   \n",
      "16712        Haitaka no Psychedelica      PSV             2016     Adventure   \n",
      "16713               Spirits & Spells      GBA             2003      Platform   \n",
      "16714            Winning Post 8 2016      PSV             2016    Simulation   \n",
      "\n",
      "       na_sales  eu_sales  jp_sales  other_sales  critic_score user_score  \\\n",
      "1         29.08      3.58      6.81         0.77           NaN        NaN   \n",
      "4         11.27      8.89     10.22         1.00           NaN        NaN   \n",
      "5         23.20      2.26      4.22         0.58           NaN        NaN   \n",
      "9         26.93      0.63      0.28         0.47           NaN        NaN   \n",
      "10         9.05     10.95      1.93         2.74           NaN        NaN   \n",
      "...         ...       ...       ...          ...           ...        ...   \n",
      "16710      0.00      0.00      0.01         0.00           NaN        NaN   \n",
      "16711      0.00      0.01      0.00         0.00           NaN        NaN   \n",
      "16712      0.00      0.00      0.01         0.00           NaN        NaN   \n",
      "16713      0.01      0.00      0.00         0.00           NaN        NaN   \n",
      "16714      0.00      0.00      0.01         0.00           NaN        NaN   \n",
      "\n",
      "      rating  \n",
      "1        NaN  \n",
      "4        NaN  \n",
      "5        NaN  \n",
      "9        NaN  \n",
      "10       NaN  \n",
      "...      ...  \n",
      "16710    NaN  \n",
      "16711    NaN  \n",
      "16712    NaN  \n",
      "16713    NaN  \n",
      "16714    NaN  \n",
      "\n",
      "[6607 rows x 11 columns]\n"
     ]
    }
   ],
   "source": [
    "print(df[df['user_score'].isna()])"
   ]
  },
  {
   "cell_type": "markdown",
   "metadata": {},
   "source": [
    "***Análisis de valores nulos de las variables score***"
   ]
  },
  {
   "cell_type": "markdown",
   "metadata": {},
   "source": [
    "Debido a la gran cantidad de valores nulos presentes en las variables de score, es necesario realizar un análisis de estos datos con el fin de determinar la mejor acción a seguir para su tratamiento."
   ]
  },
  {
   "cell_type": "code",
   "execution_count": 8,
   "metadata": {
    "trusted": false
   },
   "outputs": [
    {
     "name": "stdout",
     "output_type": "stream",
     "text": [
      "user_score análisis\n",
      "\n",
      "No hay comas en los números.\n",
      "user_score\n",
      "tbd    2376\n",
      "7.8     322\n",
      "8       285\n",
      "8.2     276\n",
      "8.3     252\n",
      "       ... \n",
      "1.5       2\n",
      "1.9       2\n",
      "0.2       2\n",
      "9.7       1\n",
      "0         1\n",
      "Length: 96, dtype: int64\n",
      "\n",
      "critic_score análisis\n",
      "\n",
      "No hay comas en los números.\n",
      "critic_score\n",
      "70.0    252\n",
      "71.0    248\n",
      "75.0    240\n",
      "80.0    235\n",
      "73.0    234\n",
      "       ... \n",
      "29.0      3\n",
      "20.0      3\n",
      "17.0      1\n",
      "21.0      1\n",
      "13.0      1\n",
      "Length: 81, dtype: int64\n"
     ]
    }
   ],
   "source": [
    "null_score = df[['critic_score','user_score']]\n",
    "\n",
    "#user_score análisis\n",
    "\n",
    "print('user_score análisis')\n",
    "print()\n",
    "tiene_coma = null_score['user_score'].astype(str).str.contains(',', na=False).any()\n",
    "if tiene_coma:\n",
    "    print(\"¡Hay números con comas!\")\n",
    "else:\n",
    "    print(\"No hay comas en los números.\")\n",
    "    \n",
    "print(null_score.value_counts('user_score'))\n",
    "\n",
    "print()\n",
    "\n",
    "#critic_score análisis\n",
    "print('critic_score análisis')\n",
    "print()\n",
    "tiene_coma = null_score['critic_score'].astype(str).str.contains(',', na=False).any()\n",
    "if tiene_coma:\n",
    "    print(\"¡Hay números con comas!\")\n",
    "else:\n",
    "    print(\"No hay comas en los números.\")\n",
    "print(null_score.value_counts('critic_score'))\n"
   ]
  },
  {
   "cell_type": "code",
   "execution_count": 9,
   "metadata": {
    "trusted": false
   },
   "outputs": [
    {
     "name": "stdout",
     "output_type": "stream",
     "text": [
      "       critic_score user_score\n",
      "0               NaN        NaN\n",
      "1               NaN        NaN\n",
      "2               NaN        NaN\n",
      "3               NaN        NaN\n",
      "4               NaN        NaN\n",
      "...             ...        ...\n",
      "16710           NaN        NaN\n",
      "16711           NaN        NaN\n",
      "16712           NaN        NaN\n",
      "16713           NaN        NaN\n",
      "16714           NaN        NaN\n",
      "\n",
      "[16446 rows x 2 columns]\n"
     ]
    }
   ],
   "source": [
    "print(null_score[null_score.isna()])"
   ]
  },
  {
   "cell_type": "markdown",
   "metadata": {},
   "source": [
    "Tras observar los datos, se identifica que la columna 'user_score' contiene una gran cantidad de valores \"tbd\" (por determinar). Asimismo, se evidencia que las variables relacionadas con score presentan valores nulos, lo cual podría indicar que aún no se ha asignado una calificación, o que dicha información no estaba disponible al momento de la recolección de los datos.\n",
    "\n",
    "Dado lo anterior, se procederá a convertir la columna 'user_score' al tipo de dato float. Para ello, y considerando que los valores \"tbd\" no representan datos numéricos válidos, se utilizará el argumento errors='coerce', lo cual permitirá transformar estos valores no convertibles en NaN sin afectar los demás datos relevantes, como las cifras de ventas.\n",
    "\n",
    "Finalmente, al no encontrarse valores con separadores decimales incorrectos (como comas), se puede mantener el tipo de dato numérico sin necesidad de realizar transformaciones adicionales sobre dicha columna."
   ]
  },
  {
   "cell_type": "code",
   "execution_count": 10,
   "metadata": {
    "trusted": false
   },
   "outputs": [],
   "source": [
    "df['user_score'] = pd.to_numeric(df['user_score'], errors='coerce')\n",
    "df['user_score'] = df['user_score'].astype('float64')"
   ]
  },
  {
   "cell_type": "markdown",
   "metadata": {},
   "source": [
    "Debido a la cantidad de datos, en este caso solo se modificará el tipo de dato a float64, lo que permitirá realizar sumas y promedios sin afectar las operaciones."
   ]
  },
  {
   "cell_type": "code",
   "execution_count": 11,
   "metadata": {
    "trusted": false
   },
   "outputs": [
    {
     "name": "stdout",
     "output_type": "stream",
     "text": [
      "<class 'pandas.core.frame.DataFrame'>\n",
      "Int64Index: 16446 entries, 0 to 16714\n",
      "Data columns (total 11 columns):\n",
      " #   Column           Non-Null Count  Dtype  \n",
      "---  ------           --------------  -----  \n",
      " 0   name             16444 non-null  object \n",
      " 1   platform         16446 non-null  object \n",
      " 2   year_of_release  16446 non-null  int64  \n",
      " 3   genre            16444 non-null  object \n",
      " 4   na_sales         16446 non-null  float64\n",
      " 5   eu_sales         16446 non-null  float64\n",
      " 6   jp_sales         16446 non-null  float64\n",
      " 7   other_sales      16446 non-null  float64\n",
      " 8   critic_score     7983 non-null   float64\n",
      " 9   user_score       7463 non-null   float64\n",
      " 10  rating           9768 non-null   object \n",
      "dtypes: float64(6), int64(1), object(4)\n",
      "memory usage: 1.5+ MB\n"
     ]
    }
   ],
   "source": [
    "df.info()"
   ]
  },
  {
   "cell_type": "markdown",
   "metadata": {},
   "source": [
    "***MANEJO DE DATOS NULOS***"
   ]
  },
  {
   "cell_type": "code",
   "execution_count": 12,
   "metadata": {
    "trusted": false
   },
   "outputs": [
    {
     "name": "stdout",
     "output_type": "stream",
     "text": [
      "name                  2\n",
      "platform              0\n",
      "year_of_release     269\n",
      "genre                 2\n",
      "na_sales              0\n",
      "eu_sales              0\n",
      "jp_sales              0\n",
      "other_sales           0\n",
      "critic_score       8578\n",
      "user_score         6701\n",
      "rating             6766\n",
      "dtype: int64\n"
     ]
    }
   ],
   "source": [
    "print(null)"
   ]
  },
  {
   "cell_type": "markdown",
   "metadata": {},
   "source": [
    "Se eliminarán los valores nulos de las columnas 'name' y 'genre'. La columna 'critic_score' se mantendrá sin cambios, ya que es de tipo float64 y los valores NaN no afectan las operaciones matemáticas. En cuanto a la columna 'rating', los valores nulos se reemplazarán por \"Desconocido\". Es posible que la información no estuviera disponible al momento de la recopilación."
   ]
  },
  {
   "cell_type": "code",
   "execution_count": 13,
   "metadata": {
    "trusted": false
   },
   "outputs": [
    {
     "data": {
      "text/html": [
       "<div>\n",
       "<style scoped>\n",
       "    .dataframe tbody tr th:only-of-type {\n",
       "        vertical-align: middle;\n",
       "    }\n",
       "\n",
       "    .dataframe tbody tr th {\n",
       "        vertical-align: top;\n",
       "    }\n",
       "\n",
       "    .dataframe thead th {\n",
       "        text-align: right;\n",
       "    }\n",
       "</style>\n",
       "<table border=\"1\" class=\"dataframe\">\n",
       "  <thead>\n",
       "    <tr style=\"text-align: right;\">\n",
       "      <th></th>\n",
       "      <th>name</th>\n",
       "      <th>platform</th>\n",
       "      <th>year_of_release</th>\n",
       "      <th>genre</th>\n",
       "      <th>na_sales</th>\n",
       "      <th>eu_sales</th>\n",
       "      <th>jp_sales</th>\n",
       "      <th>other_sales</th>\n",
       "      <th>critic_score</th>\n",
       "      <th>user_score</th>\n",
       "      <th>rating</th>\n",
       "    </tr>\n",
       "  </thead>\n",
       "  <tbody>\n",
       "    <tr>\n",
       "      <th>0</th>\n",
       "      <td>Wii Sports</td>\n",
       "      <td>Wii</td>\n",
       "      <td>2006</td>\n",
       "      <td>Sports</td>\n",
       "      <td>41.36</td>\n",
       "      <td>28.96</td>\n",
       "      <td>3.77</td>\n",
       "      <td>8.45</td>\n",
       "      <td>76.0</td>\n",
       "      <td>8.0</td>\n",
       "      <td>E</td>\n",
       "    </tr>\n",
       "    <tr>\n",
       "      <th>1</th>\n",
       "      <td>Super Mario Bros.</td>\n",
       "      <td>NES</td>\n",
       "      <td>1985</td>\n",
       "      <td>Platform</td>\n",
       "      <td>29.08</td>\n",
       "      <td>3.58</td>\n",
       "      <td>6.81</td>\n",
       "      <td>0.77</td>\n",
       "      <td>NaN</td>\n",
       "      <td>NaN</td>\n",
       "      <td>Unknow</td>\n",
       "    </tr>\n",
       "    <tr>\n",
       "      <th>2</th>\n",
       "      <td>Mario Kart Wii</td>\n",
       "      <td>Wii</td>\n",
       "      <td>2008</td>\n",
       "      <td>Racing</td>\n",
       "      <td>15.68</td>\n",
       "      <td>12.76</td>\n",
       "      <td>3.79</td>\n",
       "      <td>3.29</td>\n",
       "      <td>82.0</td>\n",
       "      <td>8.3</td>\n",
       "      <td>E</td>\n",
       "    </tr>\n",
       "    <tr>\n",
       "      <th>3</th>\n",
       "      <td>Wii Sports Resort</td>\n",
       "      <td>Wii</td>\n",
       "      <td>2009</td>\n",
       "      <td>Sports</td>\n",
       "      <td>15.61</td>\n",
       "      <td>10.93</td>\n",
       "      <td>3.28</td>\n",
       "      <td>2.95</td>\n",
       "      <td>80.0</td>\n",
       "      <td>8.0</td>\n",
       "      <td>E</td>\n",
       "    </tr>\n",
       "    <tr>\n",
       "      <th>4</th>\n",
       "      <td>Pokemon Red/Pokemon Blue</td>\n",
       "      <td>GB</td>\n",
       "      <td>1996</td>\n",
       "      <td>Role-Playing</td>\n",
       "      <td>11.27</td>\n",
       "      <td>8.89</td>\n",
       "      <td>10.22</td>\n",
       "      <td>1.00</td>\n",
       "      <td>NaN</td>\n",
       "      <td>NaN</td>\n",
       "      <td>Unknow</td>\n",
       "    </tr>\n",
       "    <tr>\n",
       "      <th>5</th>\n",
       "      <td>Tetris</td>\n",
       "      <td>GB</td>\n",
       "      <td>1989</td>\n",
       "      <td>Puzzle</td>\n",
       "      <td>23.20</td>\n",
       "      <td>2.26</td>\n",
       "      <td>4.22</td>\n",
       "      <td>0.58</td>\n",
       "      <td>NaN</td>\n",
       "      <td>NaN</td>\n",
       "      <td>Unknow</td>\n",
       "    </tr>\n",
       "    <tr>\n",
       "      <th>6</th>\n",
       "      <td>New Super Mario Bros.</td>\n",
       "      <td>DS</td>\n",
       "      <td>2006</td>\n",
       "      <td>Platform</td>\n",
       "      <td>11.28</td>\n",
       "      <td>9.14</td>\n",
       "      <td>6.50</td>\n",
       "      <td>2.88</td>\n",
       "      <td>89.0</td>\n",
       "      <td>8.5</td>\n",
       "      <td>E</td>\n",
       "    </tr>\n",
       "    <tr>\n",
       "      <th>7</th>\n",
       "      <td>Wii Play</td>\n",
       "      <td>Wii</td>\n",
       "      <td>2006</td>\n",
       "      <td>Misc</td>\n",
       "      <td>13.96</td>\n",
       "      <td>9.18</td>\n",
       "      <td>2.93</td>\n",
       "      <td>2.84</td>\n",
       "      <td>58.0</td>\n",
       "      <td>6.6</td>\n",
       "      <td>E</td>\n",
       "    </tr>\n",
       "    <tr>\n",
       "      <th>8</th>\n",
       "      <td>New Super Mario Bros. Wii</td>\n",
       "      <td>Wii</td>\n",
       "      <td>2009</td>\n",
       "      <td>Platform</td>\n",
       "      <td>14.44</td>\n",
       "      <td>6.94</td>\n",
       "      <td>4.70</td>\n",
       "      <td>2.24</td>\n",
       "      <td>87.0</td>\n",
       "      <td>8.4</td>\n",
       "      <td>E</td>\n",
       "    </tr>\n",
       "    <tr>\n",
       "      <th>9</th>\n",
       "      <td>Duck Hunt</td>\n",
       "      <td>NES</td>\n",
       "      <td>1984</td>\n",
       "      <td>Shooter</td>\n",
       "      <td>26.93</td>\n",
       "      <td>0.63</td>\n",
       "      <td>0.28</td>\n",
       "      <td>0.47</td>\n",
       "      <td>NaN</td>\n",
       "      <td>NaN</td>\n",
       "      <td>Unknow</td>\n",
       "    </tr>\n",
       "    <tr>\n",
       "      <th>10</th>\n",
       "      <td>Nintendogs</td>\n",
       "      <td>DS</td>\n",
       "      <td>2005</td>\n",
       "      <td>Simulation</td>\n",
       "      <td>9.05</td>\n",
       "      <td>10.95</td>\n",
       "      <td>1.93</td>\n",
       "      <td>2.74</td>\n",
       "      <td>NaN</td>\n",
       "      <td>NaN</td>\n",
       "      <td>Unknow</td>\n",
       "    </tr>\n",
       "  </tbody>\n",
       "</table>\n",
       "</div>"
      ],
      "text/plain": [
       "                         name platform  year_of_release         genre  \\\n",
       "0                  Wii Sports      Wii             2006        Sports   \n",
       "1           Super Mario Bros.      NES             1985      Platform   \n",
       "2              Mario Kart Wii      Wii             2008        Racing   \n",
       "3           Wii Sports Resort      Wii             2009        Sports   \n",
       "4    Pokemon Red/Pokemon Blue       GB             1996  Role-Playing   \n",
       "5                      Tetris       GB             1989        Puzzle   \n",
       "6       New Super Mario Bros.       DS             2006      Platform   \n",
       "7                    Wii Play      Wii             2006          Misc   \n",
       "8   New Super Mario Bros. Wii      Wii             2009      Platform   \n",
       "9                   Duck Hunt      NES             1984       Shooter   \n",
       "10                 Nintendogs       DS             2005    Simulation   \n",
       "\n",
       "    na_sales  eu_sales  jp_sales  other_sales  critic_score  user_score  \\\n",
       "0      41.36     28.96      3.77         8.45          76.0         8.0   \n",
       "1      29.08      3.58      6.81         0.77           NaN         NaN   \n",
       "2      15.68     12.76      3.79         3.29          82.0         8.3   \n",
       "3      15.61     10.93      3.28         2.95          80.0         8.0   \n",
       "4      11.27      8.89     10.22         1.00           NaN         NaN   \n",
       "5      23.20      2.26      4.22         0.58           NaN         NaN   \n",
       "6      11.28      9.14      6.50         2.88          89.0         8.5   \n",
       "7      13.96      9.18      2.93         2.84          58.0         6.6   \n",
       "8      14.44      6.94      4.70         2.24          87.0         8.4   \n",
       "9      26.93      0.63      0.28         0.47           NaN         NaN   \n",
       "10      9.05     10.95      1.93         2.74           NaN         NaN   \n",
       "\n",
       "    rating  \n",
       "0        E  \n",
       "1   Unknow  \n",
       "2        E  \n",
       "3        E  \n",
       "4   Unknow  \n",
       "5   Unknow  \n",
       "6        E  \n",
       "7        E  \n",
       "8        E  \n",
       "9   Unknow  \n",
       "10  Unknow  "
      ]
     },
     "execution_count": 13,
     "metadata": {},
     "output_type": "execute_result"
    }
   ],
   "source": [
    "df.dropna(subset=['name','genre'], inplace=True)\n",
    "df['rating'].fillna('Unknow', inplace=True)\n",
    "df.head(11)"
   ]
  },
  {
   "cell_type": "code",
   "execution_count": 14,
   "metadata": {
    "trusted": false
   },
   "outputs": [
    {
     "name": "stdout",
     "output_type": "stream",
     "text": [
      "<class 'pandas.core.frame.DataFrame'>\n",
      "Int64Index: 16444 entries, 0 to 16714\n",
      "Data columns (total 11 columns):\n",
      " #   Column           Non-Null Count  Dtype  \n",
      "---  ------           --------------  -----  \n",
      " 0   name             16444 non-null  object \n",
      " 1   platform         16444 non-null  object \n",
      " 2   year_of_release  16444 non-null  int64  \n",
      " 3   genre            16444 non-null  object \n",
      " 4   na_sales         16444 non-null  float64\n",
      " 5   eu_sales         16444 non-null  float64\n",
      " 6   jp_sales         16444 non-null  float64\n",
      " 7   other_sales      16444 non-null  float64\n",
      " 8   critic_score     7983 non-null   float64\n",
      " 9   user_score       7463 non-null   float64\n",
      " 10  rating           16444 non-null  object \n",
      "dtypes: float64(6), int64(1), object(4)\n",
      "memory usage: 1.5+ MB\n"
     ]
    }
   ],
   "source": [
    "df.info()"
   ]
  },
  {
   "cell_type": "markdown",
   "metadata": {},
   "source": [
    "Calcula las ventas totales (la suma de las ventas en todas las regiones) para cada juego"
   ]
  },
  {
   "cell_type": "code",
   "execution_count": 15,
   "metadata": {
    "trusted": false
   },
   "outputs": [
    {
     "data": {
      "text/html": [
       "<div>\n",
       "<style scoped>\n",
       "    .dataframe tbody tr th:only-of-type {\n",
       "        vertical-align: middle;\n",
       "    }\n",
       "\n",
       "    .dataframe tbody tr th {\n",
       "        vertical-align: top;\n",
       "    }\n",
       "\n",
       "    .dataframe thead th {\n",
       "        text-align: right;\n",
       "    }\n",
       "</style>\n",
       "<table border=\"1\" class=\"dataframe\">\n",
       "  <thead>\n",
       "    <tr style=\"text-align: right;\">\n",
       "      <th></th>\n",
       "      <th>name</th>\n",
       "      <th>platform</th>\n",
       "      <th>year_of_release</th>\n",
       "      <th>genre</th>\n",
       "      <th>na_sales</th>\n",
       "      <th>eu_sales</th>\n",
       "      <th>jp_sales</th>\n",
       "      <th>other_sales</th>\n",
       "      <th>critic_score</th>\n",
       "      <th>user_score</th>\n",
       "      <th>rating</th>\n",
       "      <th>total_sales</th>\n",
       "    </tr>\n",
       "  </thead>\n",
       "  <tbody>\n",
       "    <tr>\n",
       "      <th>0</th>\n",
       "      <td>Wii Sports</td>\n",
       "      <td>Wii</td>\n",
       "      <td>2006</td>\n",
       "      <td>Sports</td>\n",
       "      <td>41.36</td>\n",
       "      <td>28.96</td>\n",
       "      <td>3.77</td>\n",
       "      <td>8.45</td>\n",
       "      <td>76.0</td>\n",
       "      <td>8.0</td>\n",
       "      <td>E</td>\n",
       "      <td>82.54</td>\n",
       "    </tr>\n",
       "    <tr>\n",
       "      <th>1</th>\n",
       "      <td>Super Mario Bros.</td>\n",
       "      <td>NES</td>\n",
       "      <td>1985</td>\n",
       "      <td>Platform</td>\n",
       "      <td>29.08</td>\n",
       "      <td>3.58</td>\n",
       "      <td>6.81</td>\n",
       "      <td>0.77</td>\n",
       "      <td>NaN</td>\n",
       "      <td>NaN</td>\n",
       "      <td>Unknow</td>\n",
       "      <td>40.24</td>\n",
       "    </tr>\n",
       "    <tr>\n",
       "      <th>2</th>\n",
       "      <td>Mario Kart Wii</td>\n",
       "      <td>Wii</td>\n",
       "      <td>2008</td>\n",
       "      <td>Racing</td>\n",
       "      <td>15.68</td>\n",
       "      <td>12.76</td>\n",
       "      <td>3.79</td>\n",
       "      <td>3.29</td>\n",
       "      <td>82.0</td>\n",
       "      <td>8.3</td>\n",
       "      <td>E</td>\n",
       "      <td>35.52</td>\n",
       "    </tr>\n",
       "    <tr>\n",
       "      <th>3</th>\n",
       "      <td>Wii Sports Resort</td>\n",
       "      <td>Wii</td>\n",
       "      <td>2009</td>\n",
       "      <td>Sports</td>\n",
       "      <td>15.61</td>\n",
       "      <td>10.93</td>\n",
       "      <td>3.28</td>\n",
       "      <td>2.95</td>\n",
       "      <td>80.0</td>\n",
       "      <td>8.0</td>\n",
       "      <td>E</td>\n",
       "      <td>32.77</td>\n",
       "    </tr>\n",
       "    <tr>\n",
       "      <th>4</th>\n",
       "      <td>Pokemon Red/Pokemon Blue</td>\n",
       "      <td>GB</td>\n",
       "      <td>1996</td>\n",
       "      <td>Role-Playing</td>\n",
       "      <td>11.27</td>\n",
       "      <td>8.89</td>\n",
       "      <td>10.22</td>\n",
       "      <td>1.00</td>\n",
       "      <td>NaN</td>\n",
       "      <td>NaN</td>\n",
       "      <td>Unknow</td>\n",
       "      <td>31.38</td>\n",
       "    </tr>\n",
       "  </tbody>\n",
       "</table>\n",
       "</div>"
      ],
      "text/plain": [
       "                       name platform  year_of_release         genre  na_sales  \\\n",
       "0                Wii Sports      Wii             2006        Sports     41.36   \n",
       "1         Super Mario Bros.      NES             1985      Platform     29.08   \n",
       "2            Mario Kart Wii      Wii             2008        Racing     15.68   \n",
       "3         Wii Sports Resort      Wii             2009        Sports     15.61   \n",
       "4  Pokemon Red/Pokemon Blue       GB             1996  Role-Playing     11.27   \n",
       "\n",
       "   eu_sales  jp_sales  other_sales  critic_score  user_score  rating  \\\n",
       "0     28.96      3.77         8.45          76.0         8.0       E   \n",
       "1      3.58      6.81         0.77           NaN         NaN  Unknow   \n",
       "2     12.76      3.79         3.29          82.0         8.3       E   \n",
       "3     10.93      3.28         2.95          80.0         8.0       E   \n",
       "4      8.89     10.22         1.00           NaN         NaN  Unknow   \n",
       "\n",
       "   total_sales  \n",
       "0        82.54  \n",
       "1        40.24  \n",
       "2        35.52  \n",
       "3        32.77  \n",
       "4        31.38  "
      ]
     },
     "execution_count": 15,
     "metadata": {},
     "output_type": "execute_result"
    }
   ],
   "source": [
    "df['total_sales'] = df[['na_sales', 'eu_sales', 'jp_sales', 'other_sales']].sum(axis=1)\n",
    "df.head()"
   ]
  },
  {
   "cell_type": "markdown",
   "metadata": {},
   "source": [
    "# 3. Analiza los datos"
   ]
  },
  {
   "cell_type": "markdown",
   "metadata": {},
   "source": [
    "***LANZAMIENTOS POR AÑO***"
   ]
  },
  {
   "cell_type": "code",
   "execution_count": 16,
   "metadata": {
    "trusted": false
   },
   "outputs": [
    {
     "data": {
      "image/png": "[encoded data removed]",
      "text/plain": [
       "<Figure size 1200x600 with 1 Axes>"
      ]
     },
     "metadata": {},
     "output_type": "display_data"
    }
   ],
   "source": [
    "games_per_year = df['year_of_release'].value_counts().sort_index()\n",
    "\n",
    "\n",
    "plt.figure(figsize=(12, 6))\n",
    "sns.barplot(x=games_per_year.index, y=games_per_year.values, color='skyblue')\n",
    "\n",
    "\n",
    "plt.xlabel('Año de lanzamiento', fontsize=12)\n",
    "plt.ylabel('Número de juegos', fontsize=12)\n",
    "plt.title('Cantidad de juegos lanzados por año', fontsize=14)\n",
    "plt.xticks(rotation=90) \n",
    "\n",
    "plt.show()\n"
   ]
  },
  {
   "cell_type": "markdown",
   "metadata": {},
   "source": [
    "Entre 2008 y 2009 se registró el mayor número de lanzamientos de videojuegos, marcando el punto más alto en la industria en términos de cantidad de títulos publicados. Sin embargo, a partir de 2012, el número de lanzamientos disminuyo drásticamente. "
   ]
  },
  {
   "cell_type": "markdown",
   "metadata": {},
   "source": [
    "***VENTAS POR PLATAFORMA A LO LARGO DEL TIEMPO***"
   ]
  },
  {
   "cell_type": "code",
   "execution_count": 17,
   "metadata": {
    "trusted": false
   },
   "outputs": [
    {
     "name": "stdout",
     "output_type": "stream",
     "text": [
      "platform\n",
      "PS2     1233.56\n",
      "X360     961.24\n",
      "PS3      931.34\n",
      "Wii      891.18\n",
      "DS       802.78\n",
      "PS       727.58\n",
      "PS4      314.14\n",
      "GBA      312.88\n",
      "PSP      289.53\n",
      "3DS      257.81\n",
      "Name: total_sales, dtype: float64\n",
      "\n",
      "platform\n",
      "PS2     1233.56\n",
      "X360     961.24\n",
      "PS3      931.34\n",
      "Wii      891.18\n",
      "DS       802.78\n",
      "PS       727.58\n",
      "PS4      314.14\n",
      "GBA      312.88\n",
      "PSP      289.53\n",
      "3DS      257.81\n",
      "PC       255.76\n",
      "GB       254.43\n",
      "XB       251.57\n",
      "NES      251.05\n",
      "N64      218.01\n",
      "SNES     200.04\n",
      "GC       196.73\n",
      "XOne     159.32\n",
      "2600      86.48\n",
      "WiiU      82.19\n",
      "PSV       53.81\n",
      "SAT       33.59\n",
      "GEN       28.35\n",
      "DC        15.95\n",
      "SCD        1.86\n",
      "NG         1.44\n",
      "WS         1.42\n",
      "TG16       0.16\n",
      "3DO        0.10\n",
      "GG         0.04\n",
      "PCFX       0.03\n",
      "Name: total_sales, dtype: float64\n"
     ]
    }
   ],
   "source": [
    "sales_platform = df.groupby('platform')['total_sales'].sum().sort_values(ascending = False)\n",
    "\n",
    "top_platform = sales_platform.head(10)\n",
    "\n",
    "print(top_platform)\n",
    "print()\n",
    "print(sales_platform)"
   ]
  },
  {
   "cell_type": "markdown",
   "metadata": {},
   "source": [
    "Se realiza la grafica para ver el comportamiento de las  10 plataformas con mayor popularidad"
   ]
  },
  {
   "cell_type": "code",
   "execution_count": 18,
   "metadata": {
    "trusted": false
   },
   "outputs": [
    {
     "data": {
      "image/png": "[encoded data removed]",
      "text/plain": [
       "<Figure size 1400x1000 with 1 Axes>"
      ]
     },
     "metadata": {},
     "output_type": "display_data"
    }
   ],
   "source": [
    "top_platforms_list = top_platform.index.tolist()\n",
    "df_top = df[df['platform'].isin(top_platforms_list)]\n",
    "\n",
    "sales_by_year_platform = df_top.groupby(['year_of_release', 'platform'])['total_sales'].sum().reset_index()\n",
    "\n",
    "\n",
    "plt.figure(figsize=(14, 10))\n",
    "sns.lineplot(data=sales_by_year_platform, x='year_of_release', y='total_sales', hue='platform', marker='o')\n",
    "\n",
    "\n",
    "plt.xlabel('Año de lanzamiento', fontsize=12)\n",
    "plt.ylabel('Ventas totales (millones)', fontsize=12)\n",
    "plt.title('Evolución de las ventas por plataforma', fontsize=14)\n",
    "plt.legend(title='Plataforma')\n",
    "plt.grid(True)\n",
    "\n",
    "\n",
    "plt.show()"
   ]
  },
  {
   "cell_type": "markdown",
   "metadata": {},
   "source": [
    "***Plataformas que han dejado de vender***\n"
   ]
  },
  {
   "cell_type": "code",
   "execution_count": 19,
   "metadata": {
    "trusted": false
   },
   "outputs": [
    {
     "name": "stdout",
     "output_type": "stream",
     "text": [
      "platform\n",
      "2600    1989\n",
      "3DO     1995\n",
      "DC      2008\n",
      "DS      2013\n",
      "GB      2001\n",
      "GBA     2007\n",
      "GC      2007\n",
      "GEN     1994\n",
      "GG      1992\n",
      "N64     2002\n",
      "NES     1994\n",
      "NG      1996\n",
      "PCFX    1996\n",
      "PS      2003\n",
      "PS2     2011\n",
      "SAT     1999\n",
      "SCD     1994\n",
      "SNES    1999\n",
      "TG16    1995\n",
      "WS      2001\n",
      "XB      2008\n",
      "Name: year_of_release, dtype: int64\n"
     ]
    }
   ],
   "source": [
    "last_year_sales = df.groupby('platform')['year_of_release'].max()\n",
    "discontinued_platform = last_year_sales[last_year_sales<2014]\n",
    "\n",
    "print(discontinued_platform)\n"
   ]
  },
  {
   "cell_type": "markdown",
   "metadata": {},
   "source": [
    "***Vida util por plataforma***\n"
   ]
  },
  {
   "cell_type": "code",
   "execution_count": 20,
   "metadata": {
    "trusted": false
   },
   "outputs": [
    {
     "name": "stdout",
     "output_type": "stream",
     "text": [
      "           min   max  lifetime\n",
      "platform                      \n",
      "PC        1985  2016        31\n",
      "DS        1985  2013        28\n",
      "GB        1988  2001        13\n",
      "X360      2005  2016        11\n",
      "PSP       2004  2015        11\n",
      "PS2       2000  2011        11\n",
      "NES       1983  1994        11\n",
      "DC        1998  2008        10\n",
      "Wii       2006  2016        10\n",
      "PS3       2006  2016        10\n",
      "2600      1980  1989         9\n",
      "SNES      1990  1999         9\n",
      "PS        1994  2003         9\n",
      "XB        2000  2008         8\n",
      "GBA       2000  2007         7\n",
      "GC        2001  2007         6\n",
      "N64       1996  2002         6\n",
      "3DS       2011  2016         5\n",
      "PSV       2011  2016         5\n",
      "SAT       1994  1999         5\n",
      "WiiU      2012  2016         4\n",
      "GEN       1990  1994         4\n",
      "NG        1993  1996         3\n",
      "XOne      2013  2016         3\n",
      "PS4       2013  2016         3\n",
      "WS        1999  2001         2\n",
      "3DO       1994  1995         1\n",
      "SCD       1993  1994         1\n",
      "TG16      1995  1995         0\n",
      "PCFX      1996  1996         0\n",
      "GG        1992  1992         0\n"
     ]
    }
   ],
   "source": [
    "platform_lifetime = df.groupby('platform')['year_of_release'].agg(['min', 'max'])\n",
    "\n",
    "platform_lifetime['lifetime'] = platform_lifetime['max'] - platform_lifetime['min']\n",
    "\n",
    "print(platform_lifetime.sort_values(by= 'lifetime', ascending= False))\n",
    "\n"
   ]
  },
  {
   "cell_type": "markdown",
   "metadata": {},
   "source": [
    "Las plataformas exitosas suelen tener ciclos de vida de 6 a 10 años antes de ser reemplazadas por modelos nuevos. Mientras las plataformas que desaparecen (como Sega Saturn, Dreamcast) tuvieron ciclos más cortos posiblemente a su baja popularidad."
   ]
  },
  {
   "cell_type": "markdown",
   "metadata": {},
   "source": [
    "***Titutos y plataformas***"
   ]
  },
  {
   "cell_type": "code",
   "execution_count": 21,
   "metadata": {
    "trusted": false
   },
   "outputs": [
    {
     "name": "stdout",
     "output_type": "stream",
     "text": [
      "                                                   name platform  \\\n",
      "1                                     Super Mario Bros.      NES   \n",
      "5                                                Tetris       GB   \n",
      "16                                   Grand Theft Auto V      PS3   \n",
      "17                        Grand Theft Auto: San Andreas      PS2   \n",
      "18                                    Super Mario World     SNES   \n",
      "...                                                 ...      ...   \n",
      "16706                     Men in Black II: Alien Escape       GC   \n",
      "16709  SCORE International Baja 1000: The Official Game      PS2   \n",
      "16710                     Samurai Warriors: Sanada Maru      PS3   \n",
      "16713                                  Spirits & Spells      GBA   \n",
      "16714                               Winning Post 8 2016      PSV   \n",
      "\n",
      "       year_of_release       genre  na_sales  eu_sales  jp_sales  other_sales  \\\n",
      "1                 1985    Platform     29.08      3.58      6.81         0.77   \n",
      "5                 1989      Puzzle     23.20      2.26      4.22         0.58   \n",
      "16                2013      Action      7.02      9.09      0.98         3.96   \n",
      "17                2004      Action      9.43      0.40      0.41        10.57   \n",
      "18                1990    Platform     12.78      3.75      3.54         0.55   \n",
      "...                ...         ...       ...       ...       ...          ...   \n",
      "16706             2003     Shooter      0.01      0.00      0.00         0.00   \n",
      "16709             2008      Racing      0.00      0.00      0.00         0.00   \n",
      "16710             2016      Action      0.00      0.00      0.01         0.00   \n",
      "16713             2003    Platform      0.01      0.00      0.00         0.00   \n",
      "16714             2016  Simulation      0.00      0.00      0.01         0.00   \n",
      "\n",
      "       critic_score  user_score  rating  total_sales  \n",
      "1               NaN         NaN  Unknow        40.24  \n",
      "5               NaN         NaN  Unknow        30.26  \n",
      "16             97.0         8.2       M        21.05  \n",
      "17             95.0         9.0       M        20.81  \n",
      "18              NaN         NaN  Unknow        20.62  \n",
      "...             ...         ...     ...          ...  \n",
      "16706           NaN         NaN       T         0.01  \n",
      "16709           NaN         NaN  Unknow         0.00  \n",
      "16710           NaN         NaN  Unknow         0.01  \n",
      "16713           NaN         NaN  Unknow         0.01  \n",
      "16714           NaN         NaN  Unknow         0.01  \n",
      "\n",
      "[7766 rows x 12 columns]\n"
     ]
    }
   ],
   "source": [
    "titles = df.groupby('name')['platform'].nunique()\n",
    "multi_platform = titles[titles>1].index\n",
    "\n",
    "df_multi= df[df['name'].isin(multi_platform)]\n",
    "\n",
    "print(df_multi)"
   ]
  },
  {
   "cell_type": "code",
   "execution_count": 22,
   "metadata": {
    "trusted": false
   },
   "outputs": [
    {
     "data": {
      "text/plain": [
       "<function matplotlib.pyplot.show(close=None, block=None)>"
      ]
     },
     "execution_count": 22,
     "metadata": {},
     "output_type": "execute_result"
    },
    {
     "data": {
      "image/png": "[encoded data removed]",
      "text/plain": [
       "<Figure size 1200x1000 with 1 Axes>"
      ]
     },
     "metadata": {},
     "output_type": "display_data"
    }
   ],
   "source": [
    "top_games = df_multi['name'].value_counts().index[:5]\n",
    "\n",
    "filter_game = df_multi[df_multi['name'].isin(top_games)]\n",
    "\n",
    "plt.figure(figsize=(12,10))\n",
    "sns.barplot(data= filter_game, x= 'name', y='total_sales', hue= 'platform')\n",
    "\n",
    "plt.title('Comparación de ventas por juego en diferentes plataformas')\n",
    "plt.ylabel('Ventas totales (millones)')\n",
    "plt.xlabel('Nombre del juego')\n",
    "plt.xticks(rotation=90)\n",
    "plt.legend(title='Plataforma')\n",
    "plt.tight_layout()\n",
    "plt.grid(True)\n",
    "\n",
    "plt.show"
   ]
  },
  {
   "cell_type": "code",
   "execution_count": 23,
   "metadata": {
    "trusted": false
   },
   "outputs": [
    {
     "name": "stdout",
     "output_type": "stream",
     "text": [
      "Action          3307\n",
      "Sports          2306\n",
      "Misc            1721\n",
      "Role-Playing    1481\n",
      "Shooter         1296\n",
      "Adventure       1293\n",
      "Racing          1226\n",
      "Platform         878\n",
      "Simulation       857\n",
      "Fighting         837\n",
      "Strategy         673\n",
      "Puzzle           569\n",
      "Name: genre, dtype: int64\n"
     ]
    }
   ],
   "source": [
    "genre_df = df['genre'].value_counts()\n",
    "print(genre_df)"
   ]
  },
  {
   "cell_type": "code",
   "execution_count": 24,
   "metadata": {
    "trusted": false
   },
   "outputs": [
    {
     "name": "stdout",
     "output_type": "stream",
     "text": [
      "genre\n",
      "Action          1716.52\n",
      "Sports          1309.67\n",
      "Shooter         1041.36\n",
      "Role-Playing     931.08\n",
      "Platform         825.55\n",
      "Misc             790.29\n",
      "Racing           723.49\n",
      "Fighting         442.66\n",
      "Simulation       387.96\n",
      "Puzzle           239.89\n",
      "Adventure        233.33\n",
      "Strategy         172.57\n",
      "Name: total_sales, dtype: float64\n"
     ]
    }
   ],
   "source": [
    "# Rentabilidad por genero\n",
    "games_revenue = df.groupby('genre')['total_sales'].sum().sort_values(ascending=False)\n",
    "print(games_revenue)\n"
   ]
  },
  {
   "cell_type": "code",
   "execution_count": 25,
   "metadata": {
    "trusted": false
   },
   "outputs": [
    {
     "name": "stdout",
     "output_type": "stream",
     "text": [
      "genre     Action  Adventure  Fighting    Misc  Platform  Puzzle  Racing  \\\n",
      "platform                                                                  \n",
      "2600       26.31       0.40      0.77    3.57     13.26   13.67    2.32   \n",
      "3DO         0.00       0.06      0.00    0.00      0.00    0.02    0.00   \n",
      "3DS        57.84       4.83     10.56   10.99     32.53    5.57   14.87   \n",
      "DC          1.26       2.50      1.83    0.00      2.53    0.00    2.65   \n",
      "DS        111.31      45.83      7.08  135.56     75.80   82.09   37.96   \n",
      "GB          7.93      17.15      0.00   13.35     53.88   47.47    4.55   \n",
      "GBA        54.13      12.23      4.16   36.09     77.99   11.99   18.81   \n",
      "GC         37.11       5.93     18.43   16.44     28.59    4.56   21.77   \n",
      "GEN         2.74       0.19      5.89    0.03     15.44    0.00    0.26   \n",
      "GG          0.00       0.00      0.00    0.00      0.04    0.00    0.00   \n",
      "N64        29.40       0.45     22.11   11.20     36.10    3.39   40.01   \n",
      "NES        28.75       4.38      6.54    3.59     95.78   20.99    9.78   \n",
      "NG          0.00       0.00      1.42    0.00      0.00    0.00    0.00   \n",
      "PC         30.71      10.02      0.15    8.40      0.46    0.91    3.78   \n",
      "PCFX        0.00       0.00      0.00    0.00      0.00    0.00    0.00   \n",
      "PS        125.70      20.73     72.74   44.88     64.22   12.06  102.91   \n",
      "PS2       272.38      21.24     89.20   98.63     72.13    5.94  154.33   \n",
      "PS3       297.87      22.28     51.11   44.93     29.32    0.44   71.31   \n",
      "PS4        96.10       6.34      8.65    8.19      7.69    0.02   12.14   \n",
      "PSP        62.03      10.67     21.73   13.62     17.07    5.45   34.33   \n",
      "PSV        17.02       3.84      2.62    4.43      2.56    0.18    2.51   \n",
      "SAT         0.65       4.16      8.53    1.20      0.76    1.00    2.40   \n",
      "SCD         0.00       0.00      0.00    0.09      1.50    0.00    0.07   \n",
      "SNES       10.08       1.50     26.94    5.02     65.65    6.38   13.49   \n",
      "TG16        0.00       0.14      0.00    0.00      0.00    0.00    0.00   \n",
      "WS          0.00       0.00      0.00    0.00      0.00    0.00    0.00   \n",
      "Wii       106.67      17.70     23.36  212.67     88.87   15.30   60.13   \n",
      "WiiU       19.07       0.17      6.27   12.46     21.53    1.32    7.87   \n",
      "X360      236.71      14.89     37.32   88.95     11.29    0.73   64.13   \n",
      "XB         47.44       3.02     12.80    8.57      9.63    0.41   31.32   \n",
      "XOne       37.31       2.68      2.45    7.43      0.93    0.00    9.79   \n",
      "\n",
      "genre     Role-Playing  Shooter  Simulation  Sports  Strategy  \n",
      "platform                                                       \n",
      "2600              0.00    22.96        0.44    2.78      0.00  \n",
      "3DO               0.00     0.00        0.02    0.00      0.00  \n",
      "3DS              84.20     1.22       26.96    6.15      2.09  \n",
      "DC                0.68     0.33        0.52    3.65      0.00  \n",
      "DS              124.17     7.86      129.58   31.27     14.27  \n",
      "GB               88.24     1.19        3.55    9.06      8.06  \n",
      "GBA              64.20     3.56        5.94   16.32      7.46  \n",
      "GC               13.04    13.61        8.61   24.36      4.28  \n",
      "GEN               0.27     0.13        0.00    3.21      0.19  \n",
      "GG                0.00     0.00        0.00    0.00      0.00  \n",
      "N64               3.02    19.26       10.18   32.55     10.34  \n",
      "NES              18.78    35.62        0.00   26.84      0.00  \n",
      "NG                0.00     0.00        0.00    0.02      0.00  \n",
      "PC               47.25    43.90       52.51   11.97     45.70  \n",
      "PCFX              0.03     0.00        0.00    0.00      0.00  \n",
      "PS               78.40    39.33       25.34  119.49     21.78  \n",
      "PS2              91.61   108.20       42.26  262.67     14.97  \n",
      "PS3              73.65   192.29       10.31  133.15      4.68  \n",
      "PS4              28.99    88.56        1.23   55.61      0.62  \n",
      "PSP              48.86    19.63        6.24   39.76     10.14  \n",
      "PSV              12.15     3.88        0.08    4.19      0.35  \n",
      "SAT               3.76     3.97        1.13    2.79      3.24  \n",
      "SCD               0.06     0.00        0.00    0.00      0.14  \n",
      "SNES             36.45     6.06        5.63   17.86      4.98  \n",
      "TG16              0.00     0.02        0.00    0.00      0.00  \n",
      "WS                1.22     0.00        0.00    0.00      0.20  \n",
      "Wii              13.71    25.69       35.57  286.49      5.02  \n",
      "WiiU              2.89     6.01        0.20    3.16      1.24  \n",
      "X360             71.39   275.62       13.86  136.69      9.66  \n",
      "XB               13.51    62.13        7.11   52.89      2.74  \n",
      "XOne             10.55    60.33        0.69   26.74      0.42  \n"
     ]
    }
   ],
   "source": [
    "genre_by_platform= df.pivot_table(index='platform',\n",
    "                                columns= 'genre',\n",
    "                                values= 'total_sales',\n",
    "                                aggfunc='sum',\n",
    "                                fill_value =0\n",
    "                                )\n",
    "print(genre_by_platform)"
   ]
  },
  {
   "cell_type": "code",
   "execution_count": 26,
   "metadata": {
    "trusted": false
   },
   "outputs": [
    {
     "data": {
      "image/png": "[encoded data removed]",
      "text/plain": [
       "<Figure size 1500x800 with 2 Axes>"
      ]
     },
     "metadata": {},
     "output_type": "display_data"
    }
   ],
   "source": [
    "plt.figure(figsize= (15,8))\n",
    "\n",
    "sns.heatmap(genre_by_platform, annot= True, fmt=\".1f\", cmap=\"YlGnBu\")\n",
    "\n",
    "plt.title('Ventas Totales por Plataforma y Género')\n",
    "plt.xlabel('Género')\n",
    "plt.ylabel('Plataforma')\n",
    "plt.tight_layout()\n",
    "plt.show()"
   ]
  },
  {
   "cell_type": "markdown",
   "metadata": {},
   "source": [
    "A través del análisis realizado, se identificó que, entre las consolas modernas, la PlayStation 4 (PS4) es la plataforma que genera mayores ventas, seguida por el PC y Xbox One.\n",
    "\n",
    "En cuanto a los géneros de videojuegos, se evidenció que las categorías Action, Sports y Shooter son las que han generado los mayores ingresos globales. Además, los géneros Action y Sports no solo destacan por sus ventas, sino también por contar con la mayor cantidad de publicaciones, lo que refleja una alta demanda y una fuerte presencia en el mercado.\n",
    "\n",
    "También cabe resaltar que consolas que actualmente están en el mercado, como la PS3, Xbox 360 y Wii, generaron ingresos significativos, lo que demuestra su impacto en la industria durante sus años de mayor actividad."
   ]
  },
  {
   "cell_type": "markdown",
   "metadata": {},
   "source": [
    "\n",
    "# 4. Crea un perfil de usuario para cada región"
   ]
  },
  {
   "cell_type": "code",
   "execution_count": 27,
   "metadata": {
    "trusted": false
   },
   "outputs": [],
   "source": [
    "user_na= df[['name','platform','year_of_release','genre','na_sales','rating']] \n",
    "user_eu= df[['name','platform','year_of_release','genre','eu_sales','rating']]\n",
    "user_jp= df[['name','platform','year_of_release','genre','jp_sales','rating']] \n"
   ]
  },
  {
   "cell_type": "markdown",
   "metadata": {},
   "source": [
    "***Generos más populares***"
   ]
  },
  {
   "cell_type": "code",
   "execution_count": 28,
   "metadata": {
    "trusted": false
   },
   "outputs": [
    {
     "name": "stdout",
     "output_type": "stream",
     "text": [
      "      genre  na_sales\n",
      "0    Action    863.17\n",
      "1    Sports    671.20\n",
      "2   Shooter    584.83\n",
      "3  Platform    444.44\n",
      "4      Misc    399.57\n",
      "\n",
      "     genre  eu_sales\n",
      "0   Action    510.99\n",
      "1   Sports    371.33\n",
      "2  Shooter    314.52\n",
      "3   Racing    234.49\n",
      "4     Misc    210.60\n",
      "\n",
      "          genre  jp_sales\n",
      "0  Role-Playing    353.39\n",
      "1        Action    160.14\n",
      "2        Sports    134.93\n",
      "3      Platform    130.71\n",
      "4          Misc    107.02\n",
      "\n"
     ]
    }
   ],
   "source": [
    "genre_na = user_na.groupby('genre')['na_sales'].sum().sort_values(ascending=False).reset_index()\n",
    "print(genre_na.head())\n",
    "print()\n",
    "genre_eu = user_eu.groupby('genre')['eu_sales'].sum().sort_values(ascending=False).reset_index()\n",
    "print(genre_eu.head())\n",
    "print()\n",
    "\n",
    "genre_jp = user_jp.groupby('genre')['jp_sales'].sum().sort_values(ascending=False).reset_index()\n",
    "print(genre_jp.head())\n",
    "print()"
   ]
  },
  {
   "cell_type": "markdown",
   "metadata": {},
   "source": [
    "Al analizar las preferencias por región, se observaron comportamientos diferenciados: en Norteamérica y Europa, los géneros Action, Sports y Shooter lideran las ventas, mientras que en Japón existe una clara preferencia por los Role-Playing Games, que superan ampliamente a otros géneros en esa región. Esto demuestra que, aunque algunos géneros tienen aceptación global, las preferencias regionales siguen siendo determinantes al momento de planificar campañas publicitarias y desarrollar nuevos títulos. Esta información es clave para enfocar esfuerzos comerciales y estratégicos según el perfil del usuario en cada mercado."
   ]
  },
  {
   "cell_type": "markdown",
   "metadata": {},
   "source": [
    "***Plataformas más populares por región.***"
   ]
  },
  {
   "cell_type": "code",
   "execution_count": 29,
   "metadata": {
    "trusted": false
   },
   "outputs": [
    {
     "name": "stdout",
     "output_type": "stream",
     "text": [
      "  platform  na_sales\n",
      "0     X360    595.74\n",
      "1      PS2    572.92\n",
      "2      Wii    486.87\n",
      "3      PS3    390.13\n",
      "4       DS    380.31\n",
      "\n",
      "  platform  eu_sales\n",
      "0      PS2    332.63\n",
      "1      PS3    327.21\n",
      "2     X360    268.32\n",
      "3      Wii    258.32\n",
      "4       PS    212.39\n",
      "\n",
      "  platform  jp_sales\n",
      "0       DS    175.02\n",
      "1       PS    139.78\n",
      "2      PS2    137.54\n",
      "3     SNES    116.55\n",
      "4      3DS    100.62\n",
      "\n"
     ]
    }
   ],
   "source": [
    "platform_na = user_na.groupby('platform')['na_sales'].sum().sort_values(ascending=False).reset_index()\n",
    "print(platform_na.head())\n",
    "print()\n",
    "platform_eu = user_eu.groupby('platform')['eu_sales'].sum().sort_values(ascending=False).reset_index()\n",
    "print(platform_eu.head())\n",
    "print()\n",
    "\n",
    "platform_jp = user_jp.groupby('platform')['jp_sales'].sum().sort_values(ascending=False).reset_index()\n",
    "print(platform_jp.head())\n",
    "print()"
   ]
  },
  {
   "cell_type": "markdown",
   "metadata": {},
   "source": [
    "En Norteamérica, la Xbox 360 lidera el mercado con más de 595 millones en ventas, seguida de cerca por la PS2 y la Wii, lo que refleja una fuerte aceptación de consolas domésticas de alto rendimiento. En Europa, la PS2 encabeza las ventas, evidenciando su impacto duradero en esta región, seguida por la PS3 y la Xbox 360, lo que sugiere una mayor inclinación por consolas de Sony. Por otro lado, en Japón, las consolas portátiles y clásicas dominan el mercado: la Nintendo DS ocupa el primer lugar, seguida por la PlayStation original y la PS2, lo que refleja una fuerte preferencia por dispositivos compactos y una fidelidad a marcas establecidas."
   ]
  },
  {
   "cell_type": "markdown",
   "metadata": {},
   "source": [
    "***Influencia del rating por región***"
   ]
  },
  {
   "cell_type": "code",
   "execution_count": 30,
   "metadata": {
    "trusted": false
   },
   "outputs": [
    {
     "name": "stdout",
     "output_type": "stream",
     "text": [
      "   rating  na_sales\n",
      "0       E   1274.24\n",
      "1  Unknow   1225.84\n",
      "2       T    747.60\n",
      "3       M    742.89\n",
      "4    E10+    345.50\n",
      "\n",
      "   rating  eu_sales\n",
      "0       E    703.87\n",
      "1  Unknow    609.65\n",
      "2       M    480.00\n",
      "3       T    421.79\n",
      "4    E10+    183.35\n",
      "\n",
      "   rating  jp_sales\n",
      "0  Unknow    836.74\n",
      "1       E    197.96\n",
      "2       T    150.70\n",
      "3       M     63.58\n",
      "4    E10+     40.20\n",
      "\n"
     ]
    }
   ],
   "source": [
    "rating_na = user_na.groupby('rating')['na_sales'].sum().sort_values(ascending=False).reset_index()\n",
    "print(rating_na.head())\n",
    "print()\n",
    "rating_eu = user_eu.groupby('rating')['eu_sales'].sum().sort_values(ascending=False).reset_index()\n",
    "print(rating_eu.head())\n",
    "print()\n",
    "\n",
    "rating_jp = user_jp.groupby('rating')['jp_sales'].sum().sort_values(ascending=False).reset_index()\n",
    "print(rating_jp.head())\n",
    "print()"
   ]
  },
  {
   "cell_type": "markdown",
   "metadata": {},
   "source": [
    "El análisis de ventas según la clasificación ESRB muestra cómo las preferencias de los consumidores varían no solo por región, sino también por tipo de contenido. En Norteamérica, los juegos clasificados como E (Everyone) lideran con más de 1274 millones en ventas, lo que indica una alta aceptación de títulos aptos para todo público. Le siguen de cerca los juegos con clasificación \"Unknow\" (probablemente sin información registrada), así como los juegos T (Teen) y M (Mature), lo que sugiere un mercado diverso en cuanto a edades. En Europa, la tendencia es similar, con los juegos E encabezando las ventas, aunque los juegos M también presentan una participación importante, reflejando un interés significativo por contenido más maduro.\n",
    "\n",
    "En Japón, sin embargo, la mayoría de las ventas provienen de juegos sin clasificación registrada (Unknow), lo cual puede deberse a diferencias en los sistemas de clasificación o en el registro de datos. Le siguen los juegos E y T, con una menor representación de los títulos para mayores de edad (M) y E10+. Esto puede indicar una preferencia cultural por juegos más familiares o moderados en cuanto a contenido."
   ]
  },
  {
   "cell_type": "markdown",
   "metadata": {},
   "source": [
    "# 5. Prueba de hipótesis"
   ]
  },
  {
   "cell_type": "markdown",
   "metadata": {},
   "source": [
    "***1. Las calificaciones promedio de los usuarios para las plataformas Xbox One y PC son las mismas***"
   ]
  },
  {
   "cell_type": "markdown",
   "metadata": {},
   "source": [
    "Antes de ejecutar esa prueba, es importante asegurarse de que los datos no contengan valores NaN o Unknow, que pueden afectar los resultados por ende se debe filtrar y limpiar datos de user_score para PC y XOne."
   ]
  },
  {
   "cell_type": "code",
   "execution_count": 31,
   "metadata": {
    "trusted": false
   },
   "outputs": [],
   "source": [
    "user_score_pc = df[(df['platform'] == 'PC') & (df['user_score'].notna()) & (df['user_score'] != 'Unknow')]\n",
    "user_score_xone = df[(df['platform'] == 'XOne') & (df['user_score'].notna()) & (df['user_score'] != 'Unknow')]\n",
    "\n",
    "user_score_pc = user_score_pc['user_score']\n",
    "user_score_xone = user_score_xone['user_score']\n"
   ]
  },
  {
   "cell_type": "markdown",
   "metadata": {},
   "source": [
    "Se aplica una prueba de Levene para verificar si las varianzas de las calificaciones de usuarios (user_score) entre dos grupos ( PC y XOne) son iguales. con el fin de poder asumir si varianzas son iguales o desiguales (equal_var=True o False en ttest_ind).\n",
    "\n"
   ]
  },
  {
   "cell_type": "code",
   "execution_count": 32,
   "metadata": {
    "trusted": false
   },
   "outputs": [
    {
     "name": "stdout",
     "output_type": "stream",
     "text": [
      "Estadístico de Levene: 1.1706180824505048\n",
      "Valor p: 0.2795532372785057\n",
      "No hay evidencia suficiente para decir que las varianzas son diferentes ( equal_var= True)\n"
     ]
    }
   ],
   "source": [
    "stat, p_value = st.levene(user_score_pc, user_score_xone)\n",
    "\n",
    "print(\"Estadístico de Levene:\", stat)\n",
    "print(\"Valor p:\", p_value)\n",
    "\n",
    "if p_value < 0.05:\n",
    "    print(\"Las varianzas son significativamente diferentes ( equal_var= False)\")\n",
    "else:\n",
    "    print(\"No hay evidencia suficiente para decir que las varianzas son diferentes ( equal_var= True)\")"
   ]
  },
  {
   "cell_type": "markdown",
   "metadata": {},
   "source": [
    "Se recurre a un análisis de dos colas debido a que la hipótesis planteada evalúa la posible diferencia entre las medias de dos poblaciones, sin presuponer cuál de ellas podría ser mayor o menor"
   ]
  },
  {
   "cell_type": "code",
   "execution_count": 33,
   "metadata": {
    "trusted": false
   },
   "outputs": [
    {
     "name": "stdout",
     "output_type": "stream",
     "text": [
      "valor p: 1.3037979620149106e-05\n",
      "Rechazamos la hipótesis nula: hay diferencia significativa entre las calificaciones de usuarios en PC y Xbox One.\n"
     ]
    }
   ],
   "source": [
    "\n",
    "alpha= 0.5\n",
    "\n",
    "result = st.ttest_ind(user_score_pc,user_score_xone, equal_var= True)\n",
    "\n",
    "print('valor p:', result.pvalue)\n",
    "\n",
    "if (result.pvalue < alpha):\n",
    "    print(\"Rechazamos la hipótesis nula: hay diferencia significativa entre las calificaciones de usuarios en PC y Xbox One.\")\n",
    "else:\n",
    "    print(\"No se puede rechazar la hipótesis nula: no hay evidencia de una diferencia significativa entre las calificaciones.\")\n"
   ]
  },
  {
   "cell_type": "markdown",
   "metadata": {},
   "source": [
    "El análisis estadístico aplicado evidencia que existen diferencias significativas en las calificaciones promedio dadas por los usuarios a los videojuegos en las plataformas PC y Xbox One. Esto implica que las preferencias o percepciones de calidad de los juegos pueden variar de manera relevante entre los usuarios de ambas plataformas."
   ]
  },
  {
   "cell_type": "markdown",
   "metadata": {},
   "source": [
    "***2.Las calificaciones promedio de los usuarios para los géneros de Acción y Deportes son diferentes.***"
   ]
  },
  {
   "cell_type": "markdown",
   "metadata": {},
   "source": [
    "Antes de ejecutar esa prueba, es importante asegurarse de que los datos no contengan valores NaN o Unknow, que pueden afectar los resultados por ende se debe filtrar y limpiar datos."
   ]
  },
  {
   "cell_type": "code",
   "execution_count": 34,
   "metadata": {
    "trusted": false
   },
   "outputs": [],
   "source": [
    "user_score_action = df[(df['genre']=='Action')& (df['user_score'].notna()) & (df['user_score'] != 'Unknow')]\n",
    "user_score_sport = df[(df['genre']=='Sports') & (df['user_score'].notna()) & (df['user_score'] != 'Unknow')]\n",
    "\n",
    "user_score_action = user_score_action['user_score']\n",
    "user_score_sport = user_score_sport['user_score']\n",
    "\n"
   ]
  },
  {
   "cell_type": "markdown",
   "metadata": {},
   "source": [
    "Al aplicar el método de Levene se presentaron errores, por lo tanto, se procedió a analizar la normalidad de los datos con el fin de determinar la prueba estadística más adecuada."
   ]
  },
  {
   "cell_type": "code",
   "execution_count": 35,
   "metadata": {
    "trusted": false
   },
   "outputs": [
    {
     "name": "stdout",
     "output_type": "stream",
     "text": [
      "Estadístico: 0.9288, p-valor: 0.0000\n",
      "Los datos NO siguen una distribución normal (rechazamos H0)\n"
     ]
    }
   ],
   "source": [
    "from scipy.stats import shapiro\n",
    "\n",
    "stat_1, p = shapiro(user_score_action)\n",
    "print(f'Estadístico: {stat_1:.4f}, p-valor: {p:.4f}')\n",
    "\n",
    "if p < 0.05:\n",
    "    print(\"Los datos NO siguen una distribución normal (rechazamos H0)\")\n",
    "else:\n",
    "    print(\"Los datos sí parecen seguir una distribución normal (no se rechaza H0)\")"
   ]
  },
  {
   "cell_type": "code",
   "execution_count": 36,
   "metadata": {
    "trusted": false
   },
   "outputs": [
    {
     "name": "stdout",
     "output_type": "stream",
     "text": [
      "Estadístico: 0.9179, p-valor: 0.0000\n",
      "Los datos NO siguen una distribución normal (rechazamos H0)\n"
     ]
    }
   ],
   "source": [
    "stat_2, p_2 = shapiro(user_score_sport)\n",
    "print(f'Estadístico: {stat_2:.4f}, p-valor: {p_2:.4f}')\n",
    "\n",
    "if p_2 < 0.05:\n",
    "    print(\"Los datos NO siguen una distribución normal (rechazamos H0)\")\n",
    "else:\n",
    "    print(\"Los datos sí parecen seguir una distribución normal (no se rechaza H0)\")"
   ]
  },
  {
   "cell_type": "markdown",
   "metadata": {},
   "source": [
    "Se aplica la prueba de Fligner-Killeen debido a que los datos no siguen una distribución normal. Esta prueba permite verificar si las varianzas de las calificaciones de usuarios (user_score) entre dos grupos (Action y Sports) son iguales. El objetivo es determinar si se puede asumir igualdad de varianzas o no, lo cual es relevante para definir el parámetro equal_var=True o False al aplicar la prueba t-test para comparar medias.\n"
   ]
  },
  {
   "cell_type": "code",
   "execution_count": 37,
   "metadata": {
    "trusted": false
   },
   "outputs": [
    {
     "name": "stdout",
     "output_type": "stream",
     "text": [
      "Estadístico Fligner-Killeen: 14.805323653385702\n",
      "Valor p: 0.00011919853052230807\n",
      "Rechazamos la hipótesis nula: Las varianzas son significativamente diferentes(equal_var= False).\n"
     ]
    }
   ],
   "source": [
    "from scipy.stats import fligner\n",
    "\n",
    "\n",
    "stat_f, p_f = fligner(user_score_action, user_score_sport)\n",
    "\n",
    "print(\"Estadístico Fligner-Killeen:\", stat_f)\n",
    "print(\"Valor p:\", p_f)\n",
    "\n",
    "if p_f < 0.05:\n",
    "    print(\"Rechazamos la hipótesis nula: Las varianzas son significativamente diferentes(equal_var= False).\")\n",
    "else:\n",
    "    print(\"No se puede rechazar la hipótesis nula: No hay evidencia suficiente de que las varianzas sean diferentes( equal_var= True).\")"
   ]
  },
  {
   "cell_type": "markdown",
   "metadata": {},
   "source": [
    "Se recurre a un análisis de dos colas debido a que la hipótesis planteada evalúa la posible diferencia entre las medias de dos poblaciones, sin presuponer cuál de ellas podría ser mayor o menor"
   ]
  },
  {
   "cell_type": "code",
   "execution_count": 38,
   "metadata": {
    "trusted": false
   },
   "outputs": [
    {
     "name": "stdout",
     "output_type": "stream",
     "text": [
      "Valor p: 0.07370217419278526\n",
      "No se puede rechazar la hipótesis nula: no hay evidencia de una diferencia significativa entre las calificaciones.\n"
     ]
    }
   ],
   "source": [
    "\n",
    "alpha_2 = 0.05 \n",
    "\n",
    "\n",
    "result_2 = st.ttest_ind(user_score_action, user_score_sport, equal_var=False)\n",
    "\n",
    "print('Valor p:', result_2.pvalue)\n",
    "\n",
    "if result_2.pvalue < alpha_2:\n",
    "    print(\"Rechazamos la hipótesis nula: hay diferencia significativa entre las calificaciones de usuarios en los géneros Action y Sport.\")\n",
    "else:\n",
    "    print(\"No se puede rechazar la hipótesis nula: no hay evidencia de una diferencia significativa entre las calificaciones.\")\n"
   ]
  },
  {
   "cell_type": "markdown",
   "metadata": {},
   "source": [
    "A partir de la prueba estadística aplicada para comparar las calificaciones promedio de los usuarios entre los géneros Action y Sport, se obtuvo un valor p de 0.074, el cual es superior al nivel de significancia establecido (α = 0.05). Por lo tanto, no se puede rechazar la hipótesis nula, lo que indica que no existe evidencia estadísticamente significativa para afirmar que las calificaciones promedio difieren entre estos dos géneros. En consecuencia, se puede considerar que, desde la perspectiva de los usuarios, ambos géneros reciben valoraciones similares."
   ]
  },
  {
   "cell_type": "markdown",
   "metadata": {},
   "source": [
    "# 6. Conclusión general"
   ]
  },
  {
   "cell_type": "markdown",
   "metadata": {},
   "source": [
    "A partir del análisis realizado, se puede proponer que la campaña para el año 2017 se enfoque estratégicamente en las preferencias específicas de cada región. En el caso de Norteamérica y Europa, los géneros Action, Sports y Shooter lideran las ventas, lo cual refleja una fuerte demanda y aceptación por parte del mercado occidental. En contraste, en Japón se evidencia una clara preferencia por los juegos de tipo Role-Playing (RPG), los cuales concentran la mayor proporción de ventas en esta región.\n",
    "\n",
    "Además, es importante tener en cuenta el tipo de plataforma más utilizada por región, ya que esto puede influir significativamente en la efectividad de la campaña. Por ejemplo, mientras que plataformas como Xbox 360, PS2 y PS3 dominaron las ventas históricas en Norteamérica y Europa, en Japón se destaca la preferencia por consolas como Nintendo DS y PlayStation. También se observa el progresivo paso hacia las consolas de nueva generación, como la PS4, Xbox One y Pc, empiezan a posicionarse como líderes en ventas, especialmente en el mercado occidental. Estos cambios marcan una transición tecnológica importante que debe ser considerada al definir estrategias de distribución, marketing y desarrollo de nuevos títulos para maximizar el impacto comercial en cada región."
   ]
  }
 ],
 "metadata": {
  "ExecuteTimeLog": [
   {
    "duration": 2596,
    "start_time": "2025-04-03T20:55:57.697Z"
   },
   {
    "duration": 377,
    "start_time": "2025-04-03T20:57:15.467Z"
   },
   {
    "duration": 22,
    "start_time": "2025-04-03T20:57:26.335Z"
   },
   {
    "duration": 32,
    "start_time": "2025-04-03T21:00:13.518Z"
   },
   {
    "duration": 5,
    "start_time": "2025-04-03T21:01:51.621Z"
   },
   {
    "duration": 30,
    "start_time": "2025-04-03T21:02:22.194Z"
   },
   {
    "duration": 6,
    "start_time": "2025-04-03T21:02:27.896Z"
   },
   {
    "duration": 28,
    "start_time": "2025-04-03T21:02:31.516Z"
   },
   {
    "duration": 11,
    "start_time": "2025-04-03T21:04:11.381Z"
   },
   {
    "duration": 11,
    "start_time": "2025-04-03T21:05:26.211Z"
   },
   {
    "duration": 775,
    "start_time": "2025-04-03T21:11:59.721Z"
   },
   {
    "duration": 6,
    "start_time": "2025-04-03T21:18:45.434Z"
   },
   {
    "duration": 12,
    "start_time": "2025-04-03T21:18:59.503Z"
   },
   {
    "duration": 20,
    "start_time": "2025-04-03T21:21:32.487Z"
   },
   {
    "duration": 24,
    "start_time": "2025-04-03T21:23:10.668Z"
   },
   {
    "duration": 24,
    "start_time": "2025-04-03T21:23:52.052Z"
   },
   {
    "duration": 13,
    "start_time": "2025-04-03T21:25:04.120Z"
   },
   {
    "duration": 47,
    "start_time": "2025-04-03T21:31:22.348Z"
   },
   {
    "duration": 4,
    "start_time": "2025-04-03T21:32:20.019Z"
   },
   {
    "duration": 5,
    "start_time": "2025-04-03T21:32:35.312Z"
   },
   {
    "duration": 13,
    "start_time": "2025-04-03T21:32:58.390Z"
   },
   {
    "duration": 17,
    "start_time": "2025-04-03T21:33:13.446Z"
   },
   {
    "duration": 13,
    "start_time": "2025-04-03T21:33:40.740Z"
   },
   {
    "duration": 374,
    "start_time": "2025-04-03T21:33:49.236Z"
   },
   {
    "duration": 13,
    "start_time": "2025-04-03T21:33:59.236Z"
   },
   {
    "duration": 7,
    "start_time": "2025-04-03T21:40:19.805Z"
   },
   {
    "duration": 11,
    "start_time": "2025-04-03T21:40:30.716Z"
   },
   {
    "duration": 8,
    "start_time": "2025-04-03T21:41:45.798Z"
   },
   {
    "duration": 23,
    "start_time": "2025-04-03T21:42:03.161Z"
   },
   {
    "duration": 16,
    "start_time": "2025-04-03T21:46:59.129Z"
   },
   {
    "duration": 12,
    "start_time": "2025-04-03T21:51:48.027Z"
   },
   {
    "duration": 10,
    "start_time": "2025-04-03T21:52:04.588Z"
   },
   {
    "duration": 13,
    "start_time": "2025-04-03T21:57:51.056Z"
   },
   {
    "duration": 15,
    "start_time": "2025-04-03T22:00:47.770Z"
   },
   {
    "duration": 18,
    "start_time": "2025-04-03T22:00:53.297Z"
   },
   {
    "duration": 8,
    "start_time": "2025-04-03T22:12:20.520Z"
   },
   {
    "duration": 17,
    "start_time": "2025-04-03T22:12:42.338Z"
   },
   {
    "duration": 14,
    "start_time": "2025-04-03T22:16:08.856Z"
   },
   {
    "duration": 12,
    "start_time": "2025-04-03T22:22:01.502Z"
   },
   {
    "duration": 67,
    "start_time": "2025-04-03T22:43:33.894Z"
   },
   {
    "duration": 11,
    "start_time": "2025-04-03T22:44:27.909Z"
   },
   {
    "duration": 14,
    "start_time": "2025-04-03T22:47:02.156Z"
   },
   {
    "duration": 4,
    "start_time": "2025-04-03T22:49:07.222Z"
   },
   {
    "duration": 30,
    "start_time": "2025-04-03T22:56:20.233Z"
   },
   {
    "duration": 22,
    "start_time": "2025-04-03T22:56:48.272Z"
   },
   {
    "duration": 23,
    "start_time": "2025-04-03T22:57:20.503Z"
   },
   {
    "duration": 999,
    "start_time": "2025-04-03T22:57:39.360Z"
   },
   {
    "duration": 36,
    "start_time": "2025-04-03T22:57:40.361Z"
   },
   {
    "duration": 11,
    "start_time": "2025-04-03T22:57:40.399Z"
   },
   {
    "duration": 32,
    "start_time": "2025-04-03T22:57:40.413Z"
   },
   {
    "duration": 18,
    "start_time": "2025-04-03T22:57:40.449Z"
   },
   {
    "duration": 7,
    "start_time": "2025-04-03T22:57:40.470Z"
   },
   {
    "duration": 10,
    "start_time": "2025-04-03T22:57:40.479Z"
   },
   {
    "duration": 7,
    "start_time": "2025-04-03T22:57:40.491Z"
   },
   {
    "duration": 12,
    "start_time": "2025-04-03T22:57:40.500Z"
   },
   {
    "duration": 4,
    "start_time": "2025-04-03T22:57:40.545Z"
   },
   {
    "duration": 19,
    "start_time": "2025-04-03T22:57:40.551Z"
   },
   {
    "duration": 3,
    "start_time": "2025-04-03T22:57:59.053Z"
   },
   {
    "duration": 6,
    "start_time": "2025-04-03T22:59:02.576Z"
   },
   {
    "duration": 19,
    "start_time": "2025-04-03T22:59:56.242Z"
   },
   {
    "duration": 16,
    "start_time": "2025-04-03T23:09:14.332Z"
   },
   {
    "duration": 12,
    "start_time": "2025-04-03T23:09:52.782Z"
   },
   {
    "duration": 15,
    "start_time": "2025-04-03T23:12:04.668Z"
   },
   {
    "duration": 5,
    "start_time": "2025-04-03T23:38:49.962Z"
   },
   {
    "duration": 6,
    "start_time": "2025-04-03T23:39:37.732Z"
   },
   {
    "duration": 231,
    "start_time": "2025-04-03T23:41:00.993Z"
   },
   {
    "duration": 18,
    "start_time": "2025-04-03T23:44:06.642Z"
   },
   {
    "duration": 382,
    "start_time": "2025-04-03T23:44:49.202Z"
   },
   {
    "duration": 436,
    "start_time": "2025-04-03T23:45:29.963Z"
   },
   {
    "duration": 84,
    "start_time": "2025-04-03T23:45:33.966Z"
   },
   {
    "duration": 321,
    "start_time": "2025-04-03T23:47:19.959Z"
   },
   {
    "duration": 7,
    "start_time": "2025-04-03T23:58:20.513Z"
   },
   {
    "duration": 8,
    "start_time": "2025-04-03T23:58:53.805Z"
   },
   {
    "duration": 9,
    "start_time": "2025-04-04T00:01:36.085Z"
   },
   {
    "duration": 8,
    "start_time": "2025-04-04T00:01:50.025Z"
   },
   {
    "duration": 7,
    "start_time": "2025-04-04T00:01:56.562Z"
   },
   {
    "duration": 13,
    "start_time": "2025-04-04T00:02:06.634Z"
   },
   {
    "duration": 10,
    "start_time": "2025-04-04T00:11:24.912Z"
   },
   {
    "duration": 14,
    "start_time": "2025-04-04T00:12:02.352Z"
   },
   {
    "duration": 12,
    "start_time": "2025-04-04T00:13:28.542Z"
   },
   {
    "duration": 5,
    "start_time": "2025-04-04T00:14:04.319Z"
   },
   {
    "duration": 23,
    "start_time": "2025-04-04T00:14:09.272Z"
   },
   {
    "duration": 9,
    "start_time": "2025-04-04T00:14:26.411Z"
   },
   {
    "duration": 21,
    "start_time": "2025-04-04T00:15:54.271Z"
   },
   {
    "duration": 640,
    "start_time": "2025-04-04T00:16:10.531Z"
   },
   {
    "duration": 670,
    "start_time": "2025-04-04T00:16:25.140Z"
   },
   {
    "duration": 1057,
    "start_time": "2025-04-04T00:18:29.244Z"
   },
   {
    "duration": 624,
    "start_time": "2025-04-04T00:18:36.924Z"
   },
   {
    "duration": 2693,
    "start_time": "2025-04-04T21:16:41.805Z"
   },
   {
    "duration": 48,
    "start_time": "2025-04-04T21:16:44.501Z"
   },
   {
    "duration": 11,
    "start_time": "2025-04-04T21:16:44.551Z"
   },
   {
    "duration": 21,
    "start_time": "2025-04-04T21:16:44.565Z"
   },
   {
    "duration": 16,
    "start_time": "2025-04-04T21:16:44.588Z"
   },
   {
    "duration": 6,
    "start_time": "2025-04-04T21:16:44.606Z"
   },
   {
    "duration": 10,
    "start_time": "2025-04-04T21:16:44.614Z"
   },
   {
    "duration": 7,
    "start_time": "2025-04-04T21:16:44.625Z"
   },
   {
    "duration": 10,
    "start_time": "2025-04-04T21:16:44.634Z"
   },
   {
    "duration": 3,
    "start_time": "2025-04-04T21:16:44.647Z"
   },
   {
    "duration": 17,
    "start_time": "2025-04-04T21:16:44.686Z"
   },
   {
    "duration": 11,
    "start_time": "2025-04-04T21:16:44.705Z"
   },
   {
    "duration": 13,
    "start_time": "2025-04-04T21:16:44.717Z"
   },
   {
    "duration": 325,
    "start_time": "2025-04-04T21:16:44.732Z"
   },
   {
    "duration": 7,
    "start_time": "2025-04-04T21:16:45.059Z"
   },
   {
    "duration": 299,
    "start_time": "2025-04-04T21:16:45.068Z"
   },
   {
    "duration": 423,
    "start_time": "2025-04-04T21:17:29.566Z"
   },
   {
    "duration": 195,
    "start_time": "2025-04-04T21:19:39.715Z"
   },
   {
    "duration": 5,
    "start_time": "2025-04-04T21:19:55.712Z"
   },
   {
    "duration": 365,
    "start_time": "2025-04-04T21:19:59.221Z"
   },
   {
    "duration": 310,
    "start_time": "2025-04-04T21:20:17.330Z"
   },
   {
    "duration": 6,
    "start_time": "2025-04-04T21:25:01.696Z"
   },
   {
    "duration": 120,
    "start_time": "2025-04-04T21:31:26.500Z"
   },
   {
    "duration": 299,
    "start_time": "2025-04-04T21:31:35.114Z"
   },
   {
    "duration": 46,
    "start_time": "2025-04-04T21:32:04.928Z"
   },
   {
    "duration": 10,
    "start_time": "2025-04-04T21:32:26.880Z"
   },
   {
    "duration": 9,
    "start_time": "2025-04-04T21:36:09.094Z"
   },
   {
    "duration": 22,
    "start_time": "2025-04-04T21:47:30.715Z"
   },
   {
    "duration": 16,
    "start_time": "2025-04-04T21:47:48.987Z"
   },
   {
    "duration": 21,
    "start_time": "2025-04-04T21:54:31.506Z"
   },
   {
    "duration": 868,
    "start_time": "2025-04-04T22:02:46.478Z"
   },
   {
    "duration": 1041,
    "start_time": "2025-04-04T22:03:24.119Z"
   },
   {
    "duration": 1043,
    "start_time": "2025-04-04T22:03:35.046Z"
   },
   {
    "duration": 1516,
    "start_time": "2025-04-04T22:04:04.690Z"
   },
   {
    "duration": 788,
    "start_time": "2025-04-04T22:04:20.011Z"
   },
   {
    "duration": 152,
    "start_time": "2025-04-04T22:14:48.062Z"
   },
   {
    "duration": 198,
    "start_time": "2025-04-04T22:15:48.874Z"
   },
   {
    "duration": 6,
    "start_time": "2025-04-04T22:16:23.959Z"
   },
   {
    "duration": 451,
    "start_time": "2025-04-04T22:20:16.562Z"
   },
   {
    "duration": 18,
    "start_time": "2025-04-04T22:20:35.459Z"
   },
   {
    "duration": 16,
    "start_time": "2025-04-04T22:21:27.079Z"
   },
   {
    "duration": 5,
    "start_time": "2025-04-04T22:21:36.243Z"
   },
   {
    "duration": 6,
    "start_time": "2025-04-04T22:21:55.453Z"
   },
   {
    "duration": 2490,
    "start_time": "2025-04-05T18:53:15.280Z"
   },
   {
    "duration": 47,
    "start_time": "2025-04-05T18:53:17.772Z"
   },
   {
    "duration": 11,
    "start_time": "2025-04-05T18:53:17.820Z"
   },
   {
    "duration": 11,
    "start_time": "2025-04-05T18:53:17.833Z"
   },
   {
    "duration": 14,
    "start_time": "2025-04-05T18:53:17.845Z"
   },
   {
    "duration": 6,
    "start_time": "2025-04-05T18:53:17.860Z"
   },
   {
    "duration": 8,
    "start_time": "2025-04-05T18:53:17.868Z"
   },
   {
    "duration": 6,
    "start_time": "2025-04-05T18:53:17.878Z"
   },
   {
    "duration": 10,
    "start_time": "2025-04-05T18:53:17.885Z"
   },
   {
    "duration": 3,
    "start_time": "2025-04-05T18:53:17.898Z"
   },
   {
    "duration": 54,
    "start_time": "2025-04-05T18:53:17.903Z"
   },
   {
    "duration": 11,
    "start_time": "2025-04-05T18:53:17.959Z"
   },
   {
    "duration": 13,
    "start_time": "2025-04-05T18:53:17.972Z"
   },
   {
    "duration": 318,
    "start_time": "2025-04-05T18:53:17.987Z"
   },
   {
    "duration": 4,
    "start_time": "2025-04-05T18:53:18.307Z"
   },
   {
    "duration": 342,
    "start_time": "2025-04-05T18:53:18.313Z"
   },
   {
    "duration": 6,
    "start_time": "2025-04-05T18:53:18.657Z"
   },
   {
    "duration": 8,
    "start_time": "2025-04-05T18:53:18.665Z"
   },
   {
    "duration": 20,
    "start_time": "2025-04-05T18:53:18.674Z"
   },
   {
    "duration": 840,
    "start_time": "2025-04-05T18:53:18.695Z"
   },
   {
    "duration": 9,
    "start_time": "2025-04-05T18:53:19.537Z"
   },
   {
    "duration": 5,
    "start_time": "2025-04-05T18:53:19.548Z"
   },
   {
    "duration": 7,
    "start_time": "2025-04-05T19:07:08.934Z"
   },
   {
    "duration": 7,
    "start_time": "2025-04-05T19:09:09.983Z"
   },
   {
    "duration": 7,
    "start_time": "2025-04-05T19:09:23.452Z"
   },
   {
    "duration": 348,
    "start_time": "2025-04-05T19:10:04.756Z"
   },
   {
    "duration": 164,
    "start_time": "2025-04-05T19:10:51.496Z"
   },
   {
    "duration": 46,
    "start_time": "2025-04-05T19:11:02.823Z"
   },
   {
    "duration": 175,
    "start_time": "2025-04-05T19:11:31.644Z"
   },
   {
    "duration": 8,
    "start_time": "2025-04-05T19:11:49.850Z"
   },
   {
    "duration": 6,
    "start_time": "2025-04-05T19:12:08.127Z"
   },
   {
    "duration": 311,
    "start_time": "2025-04-05T19:12:10.790Z"
   },
   {
    "duration": 7,
    "start_time": "2025-04-05T19:13:09.384Z"
   },
   {
    "duration": 19,
    "start_time": "2025-04-05T19:17:37.973Z"
   },
   {
    "duration": 16,
    "start_time": "2025-04-05T19:18:10.433Z"
   },
   {
    "duration": 22,
    "start_time": "2025-04-05T19:18:26.129Z"
   },
   {
    "duration": 18,
    "start_time": "2025-04-05T19:19:12.881Z"
   },
   {
    "duration": 23,
    "start_time": "2025-04-05T19:20:06.127Z"
   },
   {
    "duration": 6,
    "start_time": "2025-04-05T19:25:47.276Z"
   },
   {
    "duration": 4,
    "start_time": "2025-04-05T19:26:02.488Z"
   },
   {
    "duration": 17,
    "start_time": "2025-04-05T19:26:15.540Z"
   },
   {
    "duration": 2114,
    "start_time": "2025-04-05T19:26:23.582Z"
   },
   {
    "duration": 8,
    "start_time": "2025-04-05T19:43:41.122Z"
   },
   {
    "duration": 10,
    "start_time": "2025-04-05T19:44:32.752Z"
   },
   {
    "duration": 6,
    "start_time": "2025-04-05T19:45:35.386Z"
   },
   {
    "duration": 79,
    "start_time": "2025-04-05T19:49:11.235Z"
   },
   {
    "duration": 20,
    "start_time": "2025-04-05T19:49:28.664Z"
   },
   {
    "duration": 6,
    "start_time": "2025-04-05T19:49:56.841Z"
   },
   {
    "duration": 6,
    "start_time": "2025-04-05T19:50:34.897Z"
   },
   {
    "duration": 10,
    "start_time": "2025-04-05T19:52:00.529Z"
   },
   {
    "duration": 325,
    "start_time": "2025-04-05T19:52:31.260Z"
   },
   {
    "duration": 13,
    "start_time": "2025-04-05T19:52:44.629Z"
   },
   {
    "duration": 22,
    "start_time": "2025-04-05T20:07:19.598Z"
   },
   {
    "duration": 15,
    "start_time": "2025-04-05T20:07:30.748Z"
   },
   {
    "duration": 238,
    "start_time": "2025-04-05T20:11:18.538Z"
   },
   {
    "duration": 5,
    "start_time": "2025-04-05T20:11:45.549Z"
   },
   {
    "duration": 15,
    "start_time": "2025-04-05T20:11:52.502Z"
   },
   {
    "duration": 3,
    "start_time": "2025-04-05T20:46:42.075Z"
   },
   {
    "duration": 6,
    "start_time": "2025-04-05T20:49:46.631Z"
   },
   {
    "duration": 6,
    "start_time": "2025-04-05T20:50:22.805Z"
   },
   {
    "duration": 7,
    "start_time": "2025-04-05T20:51:14.280Z"
   },
   {
    "duration": 27,
    "start_time": "2025-04-05T20:53:25.672Z"
   },
   {
    "duration": 8,
    "start_time": "2025-04-05T20:53:35.992Z"
   },
   {
    "duration": 5,
    "start_time": "2025-04-05T20:56:02.256Z"
   },
   {
    "duration": 10,
    "start_time": "2025-04-05T20:56:11.038Z"
   },
   {
    "duration": 14,
    "start_time": "2025-04-05T20:56:33.254Z"
   },
   {
    "duration": 5,
    "start_time": "2025-04-05T20:58:01.232Z"
   },
   {
    "duration": 9,
    "start_time": "2025-04-05T20:59:38.025Z"
   },
   {
    "duration": 5,
    "start_time": "2025-04-05T20:59:55.451Z"
   },
   {
    "duration": 9,
    "start_time": "2025-04-05T21:02:16.502Z"
   },
   {
    "duration": 2490,
    "start_time": "2025-04-05T21:42:44.653Z"
   },
   {
    "duration": 48,
    "start_time": "2025-04-05T21:42:47.145Z"
   },
   {
    "duration": 11,
    "start_time": "2025-04-05T21:42:47.194Z"
   },
   {
    "duration": 11,
    "start_time": "2025-04-05T21:42:47.208Z"
   },
   {
    "duration": 18,
    "start_time": "2025-04-05T21:42:47.220Z"
   },
   {
    "duration": 8,
    "start_time": "2025-04-05T21:42:47.240Z"
   },
   {
    "duration": 11,
    "start_time": "2025-04-05T21:42:47.251Z"
   },
   {
    "duration": 6,
    "start_time": "2025-04-05T21:42:47.264Z"
   },
   {
    "duration": 40,
    "start_time": "2025-04-05T21:42:47.272Z"
   },
   {
    "duration": 3,
    "start_time": "2025-04-05T21:42:47.315Z"
   },
   {
    "duration": 17,
    "start_time": "2025-04-05T21:42:47.319Z"
   },
   {
    "duration": 10,
    "start_time": "2025-04-05T21:42:47.337Z"
   },
   {
    "duration": 12,
    "start_time": "2025-04-05T21:42:47.348Z"
   },
   {
    "duration": 320,
    "start_time": "2025-04-05T21:42:47.362Z"
   },
   {
    "duration": 6,
    "start_time": "2025-04-05T21:42:47.684Z"
   },
   {
    "duration": 337,
    "start_time": "2025-04-05T21:42:47.692Z"
   },
   {
    "duration": 5,
    "start_time": "2025-04-05T21:42:48.031Z"
   },
   {
    "duration": 8,
    "start_time": "2025-04-05T21:42:48.038Z"
   },
   {
    "duration": 21,
    "start_time": "2025-04-05T21:42:48.047Z"
   },
   {
    "duration": 869,
    "start_time": "2025-04-05T21:42:48.070Z"
   },
   {
    "duration": 5,
    "start_time": "2025-04-05T21:42:48.940Z"
   },
   {
    "duration": 6,
    "start_time": "2025-04-05T21:42:48.947Z"
   },
   {
    "duration": 21,
    "start_time": "2025-04-05T21:42:48.955Z"
   },
   {
    "duration": 2083,
    "start_time": "2025-04-05T21:42:48.978Z"
   },
   {
    "duration": 6,
    "start_time": "2025-04-05T21:42:51.062Z"
   },
   {
    "duration": 13,
    "start_time": "2025-04-05T21:42:51.070Z"
   },
   {
    "duration": 33,
    "start_time": "2025-04-05T21:42:51.084Z"
   },
   {
    "duration": 13,
    "start_time": "2025-04-05T21:42:51.121Z"
   },
   {
    "duration": 7,
    "start_time": "2025-04-05T21:42:51.135Z"
   },
   {
    "duration": 8,
    "start_time": "2025-04-05T21:42:51.144Z"
   },
   {
    "duration": 240,
    "start_time": "2025-04-05T21:42:51.154Z"
   },
   {
    "duration": 13,
    "start_time": "2025-04-05T21:43:08.967Z"
   },
   {
    "duration": 7,
    "start_time": "2025-04-05T21:43:54.668Z"
   },
   {
    "duration": 16,
    "start_time": "2025-04-05T21:46:25.371Z"
   },
   {
    "duration": 15,
    "start_time": "2025-04-05T21:46:37.170Z"
   },
   {
    "duration": 15,
    "start_time": "2025-04-05T21:46:46.325Z"
   },
   {
    "duration": 274,
    "start_time": "2025-04-05T21:47:02.771Z"
   },
   {
    "duration": 7,
    "start_time": "2025-04-05T21:47:11.672Z"
   },
   {
    "duration": 126,
    "start_time": "2025-04-05T21:47:14.756Z"
   },
   {
    "duration": 47,
    "start_time": "2025-04-05T21:47:26.880Z"
   },
   {
    "duration": 45,
    "start_time": "2025-04-05T21:47:59.259Z"
   },
   {
    "duration": 29,
    "start_time": "2025-04-05T21:48:48.460Z"
   },
   {
    "duration": 24,
    "start_time": "2025-04-05T21:49:46.236Z"
   },
   {
    "duration": 8,
    "start_time": "2025-04-05T21:50:22.341Z"
   },
   {
    "duration": 5,
    "start_time": "2025-04-05T21:50:24.394Z"
   },
   {
    "duration": 183,
    "start_time": "2025-04-05T22:08:19.454Z"
   },
   {
    "duration": 4,
    "start_time": "2025-04-05T22:09:48.369Z"
   },
   {
    "duration": 8,
    "start_time": "2025-04-05T22:10:00.114Z"
   },
   {
    "duration": 5,
    "start_time": "2025-04-05T22:11:52.488Z"
   },
   {
    "duration": 4,
    "start_time": "2025-04-05T22:13:20.185Z"
   },
   {
    "duration": 19,
    "start_time": "2025-04-05T22:16:57.383Z"
   },
   {
    "duration": 21,
    "start_time": "2025-04-05T22:17:16.865Z"
   },
   {
    "duration": 19,
    "start_time": "2025-04-05T22:17:23.849Z"
   },
   {
    "duration": 20,
    "start_time": "2025-04-05T22:18:23.696Z"
   },
   {
    "duration": 8,
    "start_time": "2025-04-05T22:19:24.502Z"
   },
   {
    "duration": 9,
    "start_time": "2025-04-05T22:19:57.455Z"
   },
   {
    "duration": 3,
    "start_time": "2025-04-05T22:20:03.031Z"
   },
   {
    "duration": 10,
    "start_time": "2025-04-05T22:20:41.653Z"
   },
   {
    "duration": 9,
    "start_time": "2025-04-05T22:20:47.353Z"
   },
   {
    "duration": 5,
    "start_time": "2025-04-05T22:23:30.285Z"
   },
   {
    "duration": 6,
    "start_time": "2025-04-05T22:24:13.110Z"
   },
   {
    "duration": 16,
    "start_time": "2025-04-05T22:28:19.554Z"
   },
   {
    "duration": 17,
    "start_time": "2025-04-05T22:28:51.032Z"
   },
   {
    "duration": 7,
    "start_time": "2025-04-05T22:29:47.384Z"
   },
   {
    "duration": 5,
    "start_time": "2025-04-05T22:29:54.534Z"
   },
   {
    "duration": 2493,
    "start_time": "2025-04-08T23:24:21.311Z"
   },
   {
    "duration": 45,
    "start_time": "2025-04-08T23:24:25.036Z"
   },
   {
    "duration": 11,
    "start_time": "2025-04-08T23:24:28.060Z"
   },
   {
    "duration": 17,
    "start_time": "2025-04-08T23:24:34.604Z"
   },
   {
    "duration": 5,
    "start_time": "2025-04-08T23:24:44.814Z"
   },
   {
    "duration": 8,
    "start_time": "2025-04-08T23:25:03.130Z"
   },
   {
    "duration": 147,
    "start_time": "2025-04-08T23:25:47.172Z"
   },
   {
    "duration": 10,
    "start_time": "2025-04-08T23:26:13.666Z"
   },
   {
    "duration": 7,
    "start_time": "2025-04-08T23:27:18.555Z"
   },
   {
    "duration": 7,
    "start_time": "2025-04-08T23:28:04.157Z"
   },
   {
    "duration": 9,
    "start_time": "2025-04-08T23:28:47.419Z"
   },
   {
    "duration": 10,
    "start_time": "2025-04-08T23:28:53.706Z"
   },
   {
    "duration": 13,
    "start_time": "2025-04-08T23:32:22.151Z"
   },
   {
    "duration": 17,
    "start_time": "2025-04-08T23:34:49.001Z"
   },
   {
    "duration": 22,
    "start_time": "2025-04-08T23:36:04.827Z"
   },
   {
    "duration": 22,
    "start_time": "2025-04-08T23:36:21.225Z"
   },
   {
    "duration": 23,
    "start_time": "2025-04-08T23:36:42.836Z"
   },
   {
    "duration": 7,
    "start_time": "2025-04-08T23:37:45.104Z"
   },
   {
    "duration": 5,
    "start_time": "2025-04-08T23:38:03.806Z"
   },
   {
    "duration": 16,
    "start_time": "2025-04-08T23:38:49.828Z"
   },
   {
    "duration": 827,
    "start_time": "2025-04-09T00:00:25.019Z"
   },
   {
    "duration": 33,
    "start_time": "2025-04-09T00:00:25.849Z"
   },
   {
    "duration": 10,
    "start_time": "2025-04-09T00:00:25.884Z"
   },
   {
    "duration": 21,
    "start_time": "2025-04-09T00:00:25.897Z"
   },
   {
    "duration": 14,
    "start_time": "2025-04-09T00:00:25.920Z"
   },
   {
    "duration": 6,
    "start_time": "2025-04-09T00:00:25.936Z"
   },
   {
    "duration": 10,
    "start_time": "2025-04-09T00:00:25.943Z"
   },
   {
    "duration": 21,
    "start_time": "2025-04-09T00:00:25.954Z"
   },
   {
    "duration": 38,
    "start_time": "2025-04-09T00:00:25.976Z"
   },
   {
    "duration": 6,
    "start_time": "2025-04-09T00:00:26.018Z"
   },
   {
    "duration": 10,
    "start_time": "2025-04-09T00:00:26.025Z"
   },
   {
    "duration": 3,
    "start_time": "2025-04-09T00:00:26.037Z"
   },
   {
    "duration": 16,
    "start_time": "2025-04-09T00:00:26.041Z"
   },
   {
    "duration": 9,
    "start_time": "2025-04-09T00:00:26.058Z"
   },
   {
    "duration": 48,
    "start_time": "2025-04-09T00:00:26.069Z"
   },
   {
    "duration": 302,
    "start_time": "2025-04-09T00:00:26.119Z"
   },
   {
    "duration": 7,
    "start_time": "2025-04-09T00:00:26.423Z"
   },
   {
    "duration": 401,
    "start_time": "2025-04-09T00:00:26.432Z"
   },
   {
    "duration": 7,
    "start_time": "2025-04-09T00:00:26.835Z"
   },
   {
    "duration": 8,
    "start_time": "2025-04-09T00:00:26.844Z"
   },
   {
    "duration": 20,
    "start_time": "2025-04-09T00:00:26.853Z"
   },
   {
    "duration": 721,
    "start_time": "2025-04-09T00:00:26.875Z"
   },
   {
    "duration": 9,
    "start_time": "2025-04-09T00:00:27.599Z"
   },
   {
    "duration": 6,
    "start_time": "2025-04-09T00:00:27.610Z"
   },
   {
    "duration": 22,
    "start_time": "2025-04-09T00:00:27.617Z"
   },
   {
    "duration": 2120,
    "start_time": "2025-04-09T00:00:27.641Z"
   },
   {
    "duration": 7,
    "start_time": "2025-04-09T00:00:29.768Z"
   },
   {
    "duration": 14,
    "start_time": "2025-04-09T00:00:29.780Z"
   },
   {
    "duration": 22,
    "start_time": "2025-04-09T00:00:29.795Z"
   },
   {
    "duration": 13,
    "start_time": "2025-04-09T00:00:29.818Z"
   },
   {
    "duration": 7,
    "start_time": "2025-04-09T00:00:29.832Z"
   },
   {
    "duration": 5,
    "start_time": "2025-04-09T00:00:29.841Z"
   },
   {
    "duration": 4,
    "start_time": "2025-04-09T00:00:29.848Z"
   },
   {
    "duration": 6,
    "start_time": "2025-04-09T00:00:29.854Z"
   },
   {
    "duration": 4,
    "start_time": "2025-04-09T00:00:29.862Z"
   },
   {
    "duration": 44,
    "start_time": "2025-04-09T00:00:29.867Z"
   },
   {
    "duration": 5,
    "start_time": "2025-04-09T00:00:29.913Z"
   },
   {
    "duration": 4,
    "start_time": "2025-04-09T00:00:29.920Z"
   }
  ],
  "kernelspec": {
   "display_name": "Python 3 (ipykernel)",
   "language": "python",
   "name": "python3"
  },
  "language_info": {
   "codemirror_mode": {
    "name": "ipython",
    "version": 3
   },
   "file_extension": ".py",
   "mimetype": "text/x-python",
   "name": "python",
   "nbconvert_exporter": "python",
   "pygments_lexer": "ipython3",
   "version": "3.9.19"
  },
  "toc": {
   "base_numbering": 1,
   "nav_menu": {},
   "number_sections": true,
   "sideBar": true,
   "skip_h1_title": true,
   "title_cell": "Table of Contents",
   "title_sidebar": "Contents",
   "toc_cell": false,
   "toc_position": {},
   "toc_section_display": true,
   "toc_window_display": false
  }
 },
 "nbformat": 4,
 "nbformat_minor": 2
}
